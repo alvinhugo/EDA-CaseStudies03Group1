{
  "cells": [
    {
      "cell_type": "markdown",
      "metadata": {
        "id": "ImvXnX71w2oV"
      },
      "source": [
        "**Study Case 3**\n",
        "\n",
        "Kelompok 1A\n",
        "1. Alvinhugo Zuhdi Nurharyadi (11210940000031)\n",
        "2. Della Wiyanti (11210940000014)\n",
        "3. Zahra Tifani Apriliana (11210940000029)\n",
        "4. Puput Hanifah Nuranisa (11210940000017)\n",
        "5. Zahra Khotimah (11210940000003)\n",
        "6. M. Ikhwan Farhat (11210940000007)"
      ]
    },
    {
      "cell_type": "code",
      "execution_count": null,
      "metadata": {
        "scrolled": false,
        "colab": {
          "base_uri": "https://localhost:8080/"
        },
        "id": "96lpUesKw2od",
        "outputId": "1b472442-2c40-443a-efb2-8e4d04258707"
      },
      "outputs": [
        {
          "output_type": "execute_result",
          "data": {
            "text/plain": [
              "((1024, 26), (998, 26), (128, 26))"
            ]
          },
          "metadata": {},
          "execution_count": 14
        }
      ],
      "source": [
        "# Loading Data:\n",
        "import pandas as pd\n",
        "import matplotlib\n",
        "import matplotlib.pyplot as plt\n",
        "import seaborn as sns\n",
        "import warnings\n",
        "import gc\n",
        "import numpy as np\n",
        "from collections import Counter\n",
        "matplotlib.rcParams['figure.dpi'] = 100\n",
        "sns.set()\n",
        "%matplotlib inline\n",
        "try: # Running Locally, yakinkan \"file_\" berada di folder \"data\"\n",
        "    dfJ = pd.read_csv(\"data/jakarta.csv\", low_memory = False, encoding='utf8')\n",
        "    dfD = pd.read_csv(\"data/depok.csv\", low_memory = False, encoding='utf8')\n",
        "    dfT = pd.read_csv(\"data/tangerang.csv\", low_memory = False, encoding='utf8')\n",
        "except: # Running in Google Colab\n",
        "    !mkdir data\n",
        "    !wget -P data/ https://raw.githubusercontent.com/taufiksutanto/EDA-Case-01-PreProcessing/master/data/jakarta.csv\n",
        "    !wget -P data/ https://raw.githubusercontent.com/taufiksutanto/EDA-Case-01-PreProcessing/master/data/depok.csv\n",
        "    !wget -P data/ https://raw.githubusercontent.com/taufiksutanto/EDA-Case-01-PreProcessing/master/data/tangerang.csv\n",
        "    dfJ = pd.read_csv(\"data/jakarta.csv\", low_memory = False, encoding='utf8')\n",
        "    dfD = pd.read_csv(\"data/depok.csv\", low_memory = False, encoding='utf8')\n",
        "    dfT = pd.read_csv(\"data/tangerang.csv\", low_memory = False, encoding='utf8')\n",
        "    \n",
        "dfJ.shape, dfD.shape, dfT.shape"
      ]
    },
    {
      "cell_type": "markdown",
      "source": [
        "# JAKARTA"
      ],
      "metadata": {
        "id": "2lEji7No5QYp"
      }
    },
    {
      "cell_type": "code",
      "execution_count": null,
      "metadata": {
        "colab": {
          "base_uri": "https://localhost:8080/"
        },
        "id": "wJ8CPvZZw2of",
        "outputId": "44cc71bb-6e17-4bbc-c7a1-75aa899002b2"
      },
      "outputs": [
        {
          "output_type": "execute_result",
          "data": {
            "text/plain": [
              "created_at       object\n",
              "LT              float64\n",
              "LB              float64\n",
              "KT              float64\n",
              "KM              float64\n",
              "garasi         category\n",
              "carport        category\n",
              "lokasi         category\n",
              "sertifikat     category\n",
              "listrik         float64\n",
              "hadap          category\n",
              "harga           float64\n",
              "URL              object\n",
              "deskripsi        object\n",
              "Unnamed: 14     float64\n",
              "Unnamed: 15     float64\n",
              "Unnamed: 16     float64\n",
              "Unnamed: 17     float64\n",
              "Unnamed: 18     float64\n",
              "Unnamed: 19     float64\n",
              "Unnamed: 20     float64\n",
              "Unnamed: 21     float64\n",
              "Unnamed: 22     float64\n",
              "Unnamed: 23     float64\n",
              "Unnamed: 24     float64\n",
              "Unnamed: 25     float64\n",
              "dtype: object"
            ]
          },
          "metadata": {},
          "execution_count": 15
        }
      ],
      "source": [
        "# Mengganti type data yang kurang tepat saat dibaca oleh python\n",
        "dfJ['garasi'] = dfJ['garasi'].astype('category')\n",
        "dfJ['carport'] = dfJ['carport'].astype('category')\n",
        "dfJ['lokasi'] = dfJ['lokasi'].astype('category')\n",
        "dfJ['sertifikat'] = dfJ['sertifikat'].astype('category')\n",
        "dfJ['hadap'] = dfJ['hadap'].astype('category')\n",
        "dfJ.dtypes"
      ]
    },
    {
      "cell_type": "markdown",
      "metadata": {
        "id": "ftk6vcOYw2og"
      },
      "source": [
        "## Imputasi Missing Value"
      ]
    },
    {
      "cell_type": "code",
      "execution_count": null,
      "metadata": {
        "colab": {
          "base_uri": "https://localhost:8080/"
        },
        "id": "AwsbDZFLw2oh",
        "outputId": "61849871-7e79-4e1f-d48a-caf0c0d60c6d"
      },
      "outputs": [
        {
          "output_type": "execute_result",
          "data": {
            "text/plain": [
              "4.965444851212696"
            ]
          },
          "metadata": {},
          "execution_count": 16
        }
      ],
      "source": [
        "# Mengecek skewness pada variabel yg memiliki missing value di data gedung\n",
        "dfJ['listrik'].skew(axis = 0, skipna = True)"
      ]
    },
    {
      "cell_type": "code",
      "execution_count": null,
      "metadata": {
        "scrolled": false,
        "id": "qFBCO8XIw2oi"
      },
      "outputs": [],
      "source": [
        "# Imputasi variabel yang terdapat missing value \n",
        "modus = dfJ['garasi'].mode()[0]\n",
        "dfJ['garasi'] = dfJ['garasi'].fillna(modus)\n",
        "modus2 = dfJ['carport'].mode()[0]\n",
        "dfJ['carport'] = dfJ['carport'].fillna(modus2)\n",
        "modus3 = dfJ['hadap'].mode()[0]\n",
        "dfJ['hadap'] = dfJ['hadap'].fillna(modus3)\n",
        "modus4 = dfJ['lokasi'].mode()[0]\n",
        "dfJ['lokasi'] = dfJ['lokasi'].fillna(modus4)\n",
        "modus5 = dfJ['sertifikat'].mode()[0]\n",
        "dfJ['sertifikat'] = dfJ['sertifikat'].fillna(modus5)\n",
        "median6 = dfJ['listrik'].mode()[0]\n",
        "dfJ['listrik'] = dfJ['listrik'].fillna(median6)"
      ]
    },
    {
      "cell_type": "code",
      "source": [
        "dfJ = dfJ.dropna(axis=1,how='all')\n",
        "dfJ = dfJ.dropna(axis=0,how='all')\n",
        "dfJ = dfJ.dropna()\n",
        "dfJ"
      ],
      "metadata": {
        "colab": {
          "base_uri": "https://localhost:8080/",
          "height": 676
        },
        "id": "2SL3pvWjy--G",
        "outputId": "93cb5e02-7bb5-4286-e08c-b1b2865ae348"
      },
      "execution_count": null,
      "outputs": [
        {
          "output_type": "execute_result",
          "data": {
            "text/plain": [
              "     created_at     LT     LB   KT   KM garasi carport         lokasi  \\\n",
              "0    06-12-2021  202.0  198.0  8.0  3.0    1.0     1.0  Jakarta Pusat   \n",
              "1    02-12-2021   30.0   55.0  2.0  1.0    1.0     1.0  Jakarta Pusat   \n",
              "2    06-12-2021   19.0   35.0  2.0  1.0    1.0     1.0  Jakarta Pusat   \n",
              "3    06-12-2021   33.0   42.0  2.0  2.0    1.0     1.0  Jakarta Pusat   \n",
              "4    06-12-2021   30.0   55.0  2.0  2.0    1.0     1.0  Jakarta Pusat   \n",
              "..          ...    ...    ...  ...  ...    ...     ...            ...   \n",
              "116  22-11-2021  220.0  239.0  5.0  4.0    1.0     2.0  Jakarta Timur   \n",
              "117  06-12-2021   70.0   57.0  3.0  2.0    1.0     2.0  Jakarta Timur   \n",
              "118  06-12-2021  315.0  280.0  4.0  3.0    1.0     2.0  Jakarta Timur   \n",
              "119  06-12-2021  135.0  190.0  5.0  5.0    1.0     2.0  Jakarta Timur   \n",
              "120  06-12-2021  144.0  250.0  5.0  5.0    1.0     2.0  Jakarta Timur   \n",
              "\n",
              "    sertifikat  listrik    hadap         harga  \\\n",
              "0          SHM   2200.0    Timur  4.500000e+09   \n",
              "1          SHM   2200.0    Timur  1.100000e+09   \n",
              "2          SHM   2200.0    Timur  3.950000e+08   \n",
              "3          SHM   2200.0    Timur  8.350000e+08   \n",
              "4          SHM   2200.0    Timur  1.100000e+09   \n",
              "..         ...      ...      ...           ...   \n",
              "116       PPJB   3500.0    Timur  3.850000e+09   \n",
              "117        SHM   2200.0    Timur  8.800000e+08   \n",
              "118  SHM + IMB   3500.0    Timur  4.300000e+09   \n",
              "119  SHM + IMB   2200.0  Selatan  3.400000e+09   \n",
              "120        SHM   3500.0    Timur  2.250000e+09   \n",
              "\n",
              "                                                   URL  \\\n",
              "0    https://www.rumah.com/listing-properti/dijual-...   \n",
              "1    https://www.rumah.com/listing-properti/dijual-...   \n",
              "2    https://www.rumah.com/listing-properti/dijual-...   \n",
              "3    https://www.rumah.com/listing-properti/dijual-...   \n",
              "4    https://www.rumah.com/listing-properti/dijual-...   \n",
              "..                                                 ...   \n",
              "116  https://www.rumah.com/listing-properti/dijual-...   \n",
              "117  https://www.rumah.com/listing-properti/dijual-...   \n",
              "118  https://www.rumah.com/listing-properti/dijual-...   \n",
              "119  https://www.rumah.com/listing-properti/dijual-...   \n",
              "120  https://www.rumah.com/listing-properti/dijual-...   \n",
              "\n",
              "                                             deskripsi  \n",
              "0    Dekat Cikini Salemba Taman Isamail Marzuki Kam...  \n",
              "1    Mengusung konsep minimalis, dan didukung denga...  \n",
              "2    Dekat dengan Mall Atrium Senen, dekat dengan a...  \n",
              "3    Berlokasi sangat strategis, sangat dekat ke Tu...  \n",
              "4    Bisa request ubah tata ruang, beli 2 unit mend...  \n",
              "..                                                 ...  \n",
              "116  Rumah Mewah siap huni 2 lantai 220m 10x22 type...  \n",
              "117  Rumah Signature Location & Access :\\r\\n• 2 Men...  \n",
              "118  Rumah 1, 5 Lantai Luas Strategis di Pondok Bam...  \n",
              "119  Rumah Baru Non Komplek Posisi Hook Lokasi Stra...  \n",
              "120  Rumah Modern Minimalis dengan 2 lantai di Jati...  \n",
              "\n",
              "[112 rows x 14 columns]"
            ],
            "text/html": [
              "\n",
              "  <div id=\"df-affa67b9-8578-40ca-adc1-caa5a00afce7\">\n",
              "    <div class=\"colab-df-container\">\n",
              "      <div>\n",
              "<style scoped>\n",
              "    .dataframe tbody tr th:only-of-type {\n",
              "        vertical-align: middle;\n",
              "    }\n",
              "\n",
              "    .dataframe tbody tr th {\n",
              "        vertical-align: top;\n",
              "    }\n",
              "\n",
              "    .dataframe thead th {\n",
              "        text-align: right;\n",
              "    }\n",
              "</style>\n",
              "<table border=\"1\" class=\"dataframe\">\n",
              "  <thead>\n",
              "    <tr style=\"text-align: right;\">\n",
              "      <th></th>\n",
              "      <th>created_at</th>\n",
              "      <th>LT</th>\n",
              "      <th>LB</th>\n",
              "      <th>KT</th>\n",
              "      <th>KM</th>\n",
              "      <th>garasi</th>\n",
              "      <th>carport</th>\n",
              "      <th>lokasi</th>\n",
              "      <th>sertifikat</th>\n",
              "      <th>listrik</th>\n",
              "      <th>hadap</th>\n",
              "      <th>harga</th>\n",
              "      <th>URL</th>\n",
              "      <th>deskripsi</th>\n",
              "    </tr>\n",
              "  </thead>\n",
              "  <tbody>\n",
              "    <tr>\n",
              "      <th>0</th>\n",
              "      <td>06-12-2021</td>\n",
              "      <td>202.0</td>\n",
              "      <td>198.0</td>\n",
              "      <td>8.0</td>\n",
              "      <td>3.0</td>\n",
              "      <td>1.0</td>\n",
              "      <td>1.0</td>\n",
              "      <td>Jakarta Pusat</td>\n",
              "      <td>SHM</td>\n",
              "      <td>2200.0</td>\n",
              "      <td>Timur</td>\n",
              "      <td>4.500000e+09</td>\n",
              "      <td>https://www.rumah.com/listing-properti/dijual-...</td>\n",
              "      <td>Dekat Cikini Salemba Taman Isamail Marzuki Kam...</td>\n",
              "    </tr>\n",
              "    <tr>\n",
              "      <th>1</th>\n",
              "      <td>02-12-2021</td>\n",
              "      <td>30.0</td>\n",
              "      <td>55.0</td>\n",
              "      <td>2.0</td>\n",
              "      <td>1.0</td>\n",
              "      <td>1.0</td>\n",
              "      <td>1.0</td>\n",
              "      <td>Jakarta Pusat</td>\n",
              "      <td>SHM</td>\n",
              "      <td>2200.0</td>\n",
              "      <td>Timur</td>\n",
              "      <td>1.100000e+09</td>\n",
              "      <td>https://www.rumah.com/listing-properti/dijual-...</td>\n",
              "      <td>Mengusung konsep minimalis, dan didukung denga...</td>\n",
              "    </tr>\n",
              "    <tr>\n",
              "      <th>2</th>\n",
              "      <td>06-12-2021</td>\n",
              "      <td>19.0</td>\n",
              "      <td>35.0</td>\n",
              "      <td>2.0</td>\n",
              "      <td>1.0</td>\n",
              "      <td>1.0</td>\n",
              "      <td>1.0</td>\n",
              "      <td>Jakarta Pusat</td>\n",
              "      <td>SHM</td>\n",
              "      <td>2200.0</td>\n",
              "      <td>Timur</td>\n",
              "      <td>3.950000e+08</td>\n",
              "      <td>https://www.rumah.com/listing-properti/dijual-...</td>\n",
              "      <td>Dekat dengan Mall Atrium Senen, dekat dengan a...</td>\n",
              "    </tr>\n",
              "    <tr>\n",
              "      <th>3</th>\n",
              "      <td>06-12-2021</td>\n",
              "      <td>33.0</td>\n",
              "      <td>42.0</td>\n",
              "      <td>2.0</td>\n",
              "      <td>2.0</td>\n",
              "      <td>1.0</td>\n",
              "      <td>1.0</td>\n",
              "      <td>Jakarta Pusat</td>\n",
              "      <td>SHM</td>\n",
              "      <td>2200.0</td>\n",
              "      <td>Timur</td>\n",
              "      <td>8.350000e+08</td>\n",
              "      <td>https://www.rumah.com/listing-properti/dijual-...</td>\n",
              "      <td>Berlokasi sangat strategis, sangat dekat ke Tu...</td>\n",
              "    </tr>\n",
              "    <tr>\n",
              "      <th>4</th>\n",
              "      <td>06-12-2021</td>\n",
              "      <td>30.0</td>\n",
              "      <td>55.0</td>\n",
              "      <td>2.0</td>\n",
              "      <td>2.0</td>\n",
              "      <td>1.0</td>\n",
              "      <td>1.0</td>\n",
              "      <td>Jakarta Pusat</td>\n",
              "      <td>SHM</td>\n",
              "      <td>2200.0</td>\n",
              "      <td>Timur</td>\n",
              "      <td>1.100000e+09</td>\n",
              "      <td>https://www.rumah.com/listing-properti/dijual-...</td>\n",
              "      <td>Bisa request ubah tata ruang, beli 2 unit mend...</td>\n",
              "    </tr>\n",
              "    <tr>\n",
              "      <th>...</th>\n",
              "      <td>...</td>\n",
              "      <td>...</td>\n",
              "      <td>...</td>\n",
              "      <td>...</td>\n",
              "      <td>...</td>\n",
              "      <td>...</td>\n",
              "      <td>...</td>\n",
              "      <td>...</td>\n",
              "      <td>...</td>\n",
              "      <td>...</td>\n",
              "      <td>...</td>\n",
              "      <td>...</td>\n",
              "      <td>...</td>\n",
              "      <td>...</td>\n",
              "    </tr>\n",
              "    <tr>\n",
              "      <th>116</th>\n",
              "      <td>22-11-2021</td>\n",
              "      <td>220.0</td>\n",
              "      <td>239.0</td>\n",
              "      <td>5.0</td>\n",
              "      <td>4.0</td>\n",
              "      <td>1.0</td>\n",
              "      <td>2.0</td>\n",
              "      <td>Jakarta Timur</td>\n",
              "      <td>PPJB</td>\n",
              "      <td>3500.0</td>\n",
              "      <td>Timur</td>\n",
              "      <td>3.850000e+09</td>\n",
              "      <td>https://www.rumah.com/listing-properti/dijual-...</td>\n",
              "      <td>Rumah Mewah siap huni 2 lantai 220m 10x22 type...</td>\n",
              "    </tr>\n",
              "    <tr>\n",
              "      <th>117</th>\n",
              "      <td>06-12-2021</td>\n",
              "      <td>70.0</td>\n",
              "      <td>57.0</td>\n",
              "      <td>3.0</td>\n",
              "      <td>2.0</td>\n",
              "      <td>1.0</td>\n",
              "      <td>2.0</td>\n",
              "      <td>Jakarta Timur</td>\n",
              "      <td>SHM</td>\n",
              "      <td>2200.0</td>\n",
              "      <td>Timur</td>\n",
              "      <td>8.800000e+08</td>\n",
              "      <td>https://www.rumah.com/listing-properti/dijual-...</td>\n",
              "      <td>Rumah Signature Location &amp; Access :\\r\\n• 2 Men...</td>\n",
              "    </tr>\n",
              "    <tr>\n",
              "      <th>118</th>\n",
              "      <td>06-12-2021</td>\n",
              "      <td>315.0</td>\n",
              "      <td>280.0</td>\n",
              "      <td>4.0</td>\n",
              "      <td>3.0</td>\n",
              "      <td>1.0</td>\n",
              "      <td>2.0</td>\n",
              "      <td>Jakarta Timur</td>\n",
              "      <td>SHM + IMB</td>\n",
              "      <td>3500.0</td>\n",
              "      <td>Timur</td>\n",
              "      <td>4.300000e+09</td>\n",
              "      <td>https://www.rumah.com/listing-properti/dijual-...</td>\n",
              "      <td>Rumah 1, 5 Lantai Luas Strategis di Pondok Bam...</td>\n",
              "    </tr>\n",
              "    <tr>\n",
              "      <th>119</th>\n",
              "      <td>06-12-2021</td>\n",
              "      <td>135.0</td>\n",
              "      <td>190.0</td>\n",
              "      <td>5.0</td>\n",
              "      <td>5.0</td>\n",
              "      <td>1.0</td>\n",
              "      <td>2.0</td>\n",
              "      <td>Jakarta Timur</td>\n",
              "      <td>SHM + IMB</td>\n",
              "      <td>2200.0</td>\n",
              "      <td>Selatan</td>\n",
              "      <td>3.400000e+09</td>\n",
              "      <td>https://www.rumah.com/listing-properti/dijual-...</td>\n",
              "      <td>Rumah Baru Non Komplek Posisi Hook Lokasi Stra...</td>\n",
              "    </tr>\n",
              "    <tr>\n",
              "      <th>120</th>\n",
              "      <td>06-12-2021</td>\n",
              "      <td>144.0</td>\n",
              "      <td>250.0</td>\n",
              "      <td>5.0</td>\n",
              "      <td>5.0</td>\n",
              "      <td>1.0</td>\n",
              "      <td>2.0</td>\n",
              "      <td>Jakarta Timur</td>\n",
              "      <td>SHM</td>\n",
              "      <td>3500.0</td>\n",
              "      <td>Timur</td>\n",
              "      <td>2.250000e+09</td>\n",
              "      <td>https://www.rumah.com/listing-properti/dijual-...</td>\n",
              "      <td>Rumah Modern Minimalis dengan 2 lantai di Jati...</td>\n",
              "    </tr>\n",
              "  </tbody>\n",
              "</table>\n",
              "<p>112 rows × 14 columns</p>\n",
              "</div>\n",
              "      <button class=\"colab-df-convert\" onclick=\"convertToInteractive('df-affa67b9-8578-40ca-adc1-caa5a00afce7')\"\n",
              "              title=\"Convert this dataframe to an interactive table.\"\n",
              "              style=\"display:none;\">\n",
              "        \n",
              "  <svg xmlns=\"http://www.w3.org/2000/svg\" height=\"24px\"viewBox=\"0 0 24 24\"\n",
              "       width=\"24px\">\n",
              "    <path d=\"M0 0h24v24H0V0z\" fill=\"none\"/>\n",
              "    <path d=\"M18.56 5.44l.94 2.06.94-2.06 2.06-.94-2.06-.94-.94-2.06-.94 2.06-2.06.94zm-11 1L8.5 8.5l.94-2.06 2.06-.94-2.06-.94L8.5 2.5l-.94 2.06-2.06.94zm10 10l.94 2.06.94-2.06 2.06-.94-2.06-.94-.94-2.06-.94 2.06-2.06.94z\"/><path d=\"M17.41 7.96l-1.37-1.37c-.4-.4-.92-.59-1.43-.59-.52 0-1.04.2-1.43.59L10.3 9.45l-7.72 7.72c-.78.78-.78 2.05 0 2.83L4 21.41c.39.39.9.59 1.41.59.51 0 1.02-.2 1.41-.59l7.78-7.78 2.81-2.81c.8-.78.8-2.07 0-2.86zM5.41 20L4 18.59l7.72-7.72 1.47 1.35L5.41 20z\"/>\n",
              "  </svg>\n",
              "      </button>\n",
              "      \n",
              "  <style>\n",
              "    .colab-df-container {\n",
              "      display:flex;\n",
              "      flex-wrap:wrap;\n",
              "      gap: 12px;\n",
              "    }\n",
              "\n",
              "    .colab-df-convert {\n",
              "      background-color: #E8F0FE;\n",
              "      border: none;\n",
              "      border-radius: 50%;\n",
              "      cursor: pointer;\n",
              "      display: none;\n",
              "      fill: #1967D2;\n",
              "      height: 32px;\n",
              "      padding: 0 0 0 0;\n",
              "      width: 32px;\n",
              "    }\n",
              "\n",
              "    .colab-df-convert:hover {\n",
              "      background-color: #E2EBFA;\n",
              "      box-shadow: 0px 1px 2px rgba(60, 64, 67, 0.3), 0px 1px 3px 1px rgba(60, 64, 67, 0.15);\n",
              "      fill: #174EA6;\n",
              "    }\n",
              "\n",
              "    [theme=dark] .colab-df-convert {\n",
              "      background-color: #3B4455;\n",
              "      fill: #D2E3FC;\n",
              "    }\n",
              "\n",
              "    [theme=dark] .colab-df-convert:hover {\n",
              "      background-color: #434B5C;\n",
              "      box-shadow: 0px 1px 3px 1px rgba(0, 0, 0, 0.15);\n",
              "      filter: drop-shadow(0px 1px 2px rgba(0, 0, 0, 0.3));\n",
              "      fill: #FFFFFF;\n",
              "    }\n",
              "  </style>\n",
              "\n",
              "      <script>\n",
              "        const buttonEl =\n",
              "          document.querySelector('#df-affa67b9-8578-40ca-adc1-caa5a00afce7 button.colab-df-convert');\n",
              "        buttonEl.style.display =\n",
              "          google.colab.kernel.accessAllowed ? 'block' : 'none';\n",
              "\n",
              "        async function convertToInteractive(key) {\n",
              "          const element = document.querySelector('#df-affa67b9-8578-40ca-adc1-caa5a00afce7');\n",
              "          const dataTable =\n",
              "            await google.colab.kernel.invokeFunction('convertToInteractive',\n",
              "                                                     [key], {});\n",
              "          if (!dataTable) return;\n",
              "\n",
              "          const docLinkHtml = 'Like what you see? Visit the ' +\n",
              "            '<a target=\"_blank\" href=https://colab.research.google.com/notebooks/data_table.ipynb>data table notebook</a>'\n",
              "            + ' to learn more about interactive tables.';\n",
              "          element.innerHTML = '';\n",
              "          dataTable['output_type'] = 'display_data';\n",
              "          await google.colab.output.renderOutput(dataTable, element);\n",
              "          const docLink = document.createElement('div');\n",
              "          docLink.innerHTML = docLinkHtml;\n",
              "          element.appendChild(docLink);\n",
              "        }\n",
              "      </script>\n",
              "    </div>\n",
              "  </div>\n",
              "  "
            ]
          },
          "metadata": {},
          "execution_count": 18
        }
      ]
    },
    {
      "cell_type": "code",
      "execution_count": null,
      "metadata": {
        "colab": {
          "base_uri": "https://localhost:8080/"
        },
        "id": "0U12WtGsw2oi",
        "outputId": "f38a7384-6b76-4397-a322-e0d7b4ce961b"
      },
      "outputs": [
        {
          "output_type": "execute_result",
          "data": {
            "text/plain": [
              "created_at    0\n",
              "LT            0\n",
              "LB            0\n",
              "KT            0\n",
              "KM            0\n",
              "garasi        0\n",
              "carport       0\n",
              "lokasi        0\n",
              "sertifikat    0\n",
              "listrik       0\n",
              "hadap         0\n",
              "harga         0\n",
              "URL           0\n",
              "deskripsi     0\n",
              "dtype: int64"
            ]
          },
          "metadata": {},
          "execution_count": 19
        }
      ],
      "source": [
        "# Mengecek kembali missing value di tiap variabel pada Data Rumah Jual Jakarta\n",
        "dfJ.isnull().sum()"
      ]
    },
    {
      "cell_type": "code",
      "execution_count": null,
      "metadata": {
        "colab": {
          "base_uri": "https://localhost:8080/"
        },
        "id": "wDzNk17Kw2oj",
        "outputId": "9596a542-1a35-4b82-9e48-e140a06520ef"
      },
      "outputs": [
        {
          "output_type": "execute_result",
          "data": {
            "text/plain": [
              "0"
            ]
          },
          "metadata": {},
          "execution_count": 20
        }
      ],
      "source": [
        "# Mengecek apakah ada data yang sama (duplikasi) di Data Rumah Jual Jakarta\n",
        "dfJ.duplicated().sum()"
      ]
    },
    {
      "cell_type": "markdown",
      "metadata": {
        "id": "DntGEhs-w2on"
      },
      "source": [
        "## Statistika Deskriptif"
      ]
    },
    {
      "cell_type": "code",
      "execution_count": null,
      "metadata": {
        "scrolled": true,
        "colab": {
          "base_uri": "https://localhost:8080/",
          "height": 238
        },
        "id": "kJtsWh6Yw2on",
        "outputId": "16508857-958a-4342-8409-5d8a5b294344"
      },
      "outputs": [
        {
          "output_type": "execute_result",
          "data": {
            "text/plain": [
              "         count          mean           std          min           25%  \\\n",
              "LT       112.0  2.519732e+02  3.815684e+02         16.0  7.975000e+01   \n",
              "LB       112.0  2.791518e+02  2.917474e+02         21.0  9.000000e+01   \n",
              "KT       112.0  4.294643e+00  1.943520e+00          1.0  3.000000e+00   \n",
              "KM       112.0  3.392857e+00  1.751998e+00          1.0  2.000000e+00   \n",
              "listrik  112.0  5.502679e+03  8.159253e+03        900.0  2.200000e+03   \n",
              "harga    112.0  9.368309e+09  1.643600e+10  380000000.0  1.474500e+09   \n",
              "\n",
              "                  50%           75%           max  \n",
              "LT       1.325000e+02  2.525000e+02  3.422000e+03  \n",
              "LB       2.000000e+02  3.625000e+02  2.000000e+03  \n",
              "KT       4.000000e+00  5.000000e+00  1.000000e+01  \n",
              "KM       3.000000e+00  4.000000e+00  1.000000e+01  \n",
              "listrik  3.500000e+03  4.400000e+03  6.600000e+04  \n",
              "harga    3.400000e+09  7.675000e+09  1.050000e+11  "
            ],
            "text/html": [
              "\n",
              "  <div id=\"df-6cef95b4-da8c-4eb6-abe6-246f33edf484\">\n",
              "    <div class=\"colab-df-container\">\n",
              "      <div>\n",
              "<style scoped>\n",
              "    .dataframe tbody tr th:only-of-type {\n",
              "        vertical-align: middle;\n",
              "    }\n",
              "\n",
              "    .dataframe tbody tr th {\n",
              "        vertical-align: top;\n",
              "    }\n",
              "\n",
              "    .dataframe thead th {\n",
              "        text-align: right;\n",
              "    }\n",
              "</style>\n",
              "<table border=\"1\" class=\"dataframe\">\n",
              "  <thead>\n",
              "    <tr style=\"text-align: right;\">\n",
              "      <th></th>\n",
              "      <th>count</th>\n",
              "      <th>mean</th>\n",
              "      <th>std</th>\n",
              "      <th>min</th>\n",
              "      <th>25%</th>\n",
              "      <th>50%</th>\n",
              "      <th>75%</th>\n",
              "      <th>max</th>\n",
              "    </tr>\n",
              "  </thead>\n",
              "  <tbody>\n",
              "    <tr>\n",
              "      <th>LT</th>\n",
              "      <td>112.0</td>\n",
              "      <td>2.519732e+02</td>\n",
              "      <td>3.815684e+02</td>\n",
              "      <td>16.0</td>\n",
              "      <td>7.975000e+01</td>\n",
              "      <td>1.325000e+02</td>\n",
              "      <td>2.525000e+02</td>\n",
              "      <td>3.422000e+03</td>\n",
              "    </tr>\n",
              "    <tr>\n",
              "      <th>LB</th>\n",
              "      <td>112.0</td>\n",
              "      <td>2.791518e+02</td>\n",
              "      <td>2.917474e+02</td>\n",
              "      <td>21.0</td>\n",
              "      <td>9.000000e+01</td>\n",
              "      <td>2.000000e+02</td>\n",
              "      <td>3.625000e+02</td>\n",
              "      <td>2.000000e+03</td>\n",
              "    </tr>\n",
              "    <tr>\n",
              "      <th>KT</th>\n",
              "      <td>112.0</td>\n",
              "      <td>4.294643e+00</td>\n",
              "      <td>1.943520e+00</td>\n",
              "      <td>1.0</td>\n",
              "      <td>3.000000e+00</td>\n",
              "      <td>4.000000e+00</td>\n",
              "      <td>5.000000e+00</td>\n",
              "      <td>1.000000e+01</td>\n",
              "    </tr>\n",
              "    <tr>\n",
              "      <th>KM</th>\n",
              "      <td>112.0</td>\n",
              "      <td>3.392857e+00</td>\n",
              "      <td>1.751998e+00</td>\n",
              "      <td>1.0</td>\n",
              "      <td>2.000000e+00</td>\n",
              "      <td>3.000000e+00</td>\n",
              "      <td>4.000000e+00</td>\n",
              "      <td>1.000000e+01</td>\n",
              "    </tr>\n",
              "    <tr>\n",
              "      <th>listrik</th>\n",
              "      <td>112.0</td>\n",
              "      <td>5.502679e+03</td>\n",
              "      <td>8.159253e+03</td>\n",
              "      <td>900.0</td>\n",
              "      <td>2.200000e+03</td>\n",
              "      <td>3.500000e+03</td>\n",
              "      <td>4.400000e+03</td>\n",
              "      <td>6.600000e+04</td>\n",
              "    </tr>\n",
              "    <tr>\n",
              "      <th>harga</th>\n",
              "      <td>112.0</td>\n",
              "      <td>9.368309e+09</td>\n",
              "      <td>1.643600e+10</td>\n",
              "      <td>380000000.0</td>\n",
              "      <td>1.474500e+09</td>\n",
              "      <td>3.400000e+09</td>\n",
              "      <td>7.675000e+09</td>\n",
              "      <td>1.050000e+11</td>\n",
              "    </tr>\n",
              "  </tbody>\n",
              "</table>\n",
              "</div>\n",
              "      <button class=\"colab-df-convert\" onclick=\"convertToInteractive('df-6cef95b4-da8c-4eb6-abe6-246f33edf484')\"\n",
              "              title=\"Convert this dataframe to an interactive table.\"\n",
              "              style=\"display:none;\">\n",
              "        \n",
              "  <svg xmlns=\"http://www.w3.org/2000/svg\" height=\"24px\"viewBox=\"0 0 24 24\"\n",
              "       width=\"24px\">\n",
              "    <path d=\"M0 0h24v24H0V0z\" fill=\"none\"/>\n",
              "    <path d=\"M18.56 5.44l.94 2.06.94-2.06 2.06-.94-2.06-.94-.94-2.06-.94 2.06-2.06.94zm-11 1L8.5 8.5l.94-2.06 2.06-.94-2.06-.94L8.5 2.5l-.94 2.06-2.06.94zm10 10l.94 2.06.94-2.06 2.06-.94-2.06-.94-.94-2.06-.94 2.06-2.06.94z\"/><path d=\"M17.41 7.96l-1.37-1.37c-.4-.4-.92-.59-1.43-.59-.52 0-1.04.2-1.43.59L10.3 9.45l-7.72 7.72c-.78.78-.78 2.05 0 2.83L4 21.41c.39.39.9.59 1.41.59.51 0 1.02-.2 1.41-.59l7.78-7.78 2.81-2.81c.8-.78.8-2.07 0-2.86zM5.41 20L4 18.59l7.72-7.72 1.47 1.35L5.41 20z\"/>\n",
              "  </svg>\n",
              "      </button>\n",
              "      \n",
              "  <style>\n",
              "    .colab-df-container {\n",
              "      display:flex;\n",
              "      flex-wrap:wrap;\n",
              "      gap: 12px;\n",
              "    }\n",
              "\n",
              "    .colab-df-convert {\n",
              "      background-color: #E8F0FE;\n",
              "      border: none;\n",
              "      border-radius: 50%;\n",
              "      cursor: pointer;\n",
              "      display: none;\n",
              "      fill: #1967D2;\n",
              "      height: 32px;\n",
              "      padding: 0 0 0 0;\n",
              "      width: 32px;\n",
              "    }\n",
              "\n",
              "    .colab-df-convert:hover {\n",
              "      background-color: #E2EBFA;\n",
              "      box-shadow: 0px 1px 2px rgba(60, 64, 67, 0.3), 0px 1px 3px 1px rgba(60, 64, 67, 0.15);\n",
              "      fill: #174EA6;\n",
              "    }\n",
              "\n",
              "    [theme=dark] .colab-df-convert {\n",
              "      background-color: #3B4455;\n",
              "      fill: #D2E3FC;\n",
              "    }\n",
              "\n",
              "    [theme=dark] .colab-df-convert:hover {\n",
              "      background-color: #434B5C;\n",
              "      box-shadow: 0px 1px 3px 1px rgba(0, 0, 0, 0.15);\n",
              "      filter: drop-shadow(0px 1px 2px rgba(0, 0, 0, 0.3));\n",
              "      fill: #FFFFFF;\n",
              "    }\n",
              "  </style>\n",
              "\n",
              "      <script>\n",
              "        const buttonEl =\n",
              "          document.querySelector('#df-6cef95b4-da8c-4eb6-abe6-246f33edf484 button.colab-df-convert');\n",
              "        buttonEl.style.display =\n",
              "          google.colab.kernel.accessAllowed ? 'block' : 'none';\n",
              "\n",
              "        async function convertToInteractive(key) {\n",
              "          const element = document.querySelector('#df-6cef95b4-da8c-4eb6-abe6-246f33edf484');\n",
              "          const dataTable =\n",
              "            await google.colab.kernel.invokeFunction('convertToInteractive',\n",
              "                                                     [key], {});\n",
              "          if (!dataTable) return;\n",
              "\n",
              "          const docLinkHtml = 'Like what you see? Visit the ' +\n",
              "            '<a target=\"_blank\" href=https://colab.research.google.com/notebooks/data_table.ipynb>data table notebook</a>'\n",
              "            + ' to learn more about interactive tables.';\n",
              "          element.innerHTML = '';\n",
              "          dataTable['output_type'] = 'display_data';\n",
              "          await google.colab.output.renderOutput(dataTable, element);\n",
              "          const docLink = document.createElement('div');\n",
              "          docLink.innerHTML = docLinkHtml;\n",
              "          element.appendChild(docLink);\n",
              "        }\n",
              "      </script>\n",
              "    </div>\n",
              "  </div>\n",
              "  "
            ]
          },
          "metadata": {},
          "execution_count": 21
        }
      ],
      "source": [
        "dfJ.describe().transpose()"
      ]
    },
    {
      "cell_type": "code",
      "execution_count": null,
      "metadata": {
        "colab": {
          "base_uri": "https://localhost:8080/"
        },
        "id": "h-rixTjkw2oo",
        "outputId": "a250a9a4-90c4-431d-8e1e-18ee9e015b03"
      },
      "outputs": [
        {
          "output_type": "stream",
          "name": "stdout",
          "text": [
            "<class 'pandas.core.frame.DataFrame'>\n",
            "Int64Index: 112 entries, 0 to 120\n",
            "Data columns (total 14 columns):\n",
            " #   Column      Non-Null Count  Dtype   \n",
            "---  ------      --------------  -----   \n",
            " 0   created_at  112 non-null    object  \n",
            " 1   LT          112 non-null    float64 \n",
            " 2   LB          112 non-null    float64 \n",
            " 3   KT          112 non-null    float64 \n",
            " 4   KM          112 non-null    float64 \n",
            " 5   garasi      112 non-null    category\n",
            " 6   carport     112 non-null    category\n",
            " 7   lokasi      112 non-null    category\n",
            " 8   sertifikat  112 non-null    category\n",
            " 9   listrik     112 non-null    float64 \n",
            " 10  hadap       112 non-null    category\n",
            " 11  harga       112 non-null    float64 \n",
            " 12  URL         112 non-null    object  \n",
            " 13  deskripsi   112 non-null    object  \n",
            "dtypes: category(5), float64(6), object(3)\n",
            "memory usage: 10.9+ KB\n"
          ]
        }
      ],
      "source": [
        "dfJ.info()"
      ]
    },
    {
      "cell_type": "markdown",
      "metadata": {
        "id": "g3SseqUmw2oo"
      },
      "source": [
        "## Visualisasi Data"
      ]
    },
    {
      "cell_type": "code",
      "execution_count": null,
      "metadata": {
        "colab": {
          "base_uri": "https://localhost:8080/",
          "height": 369
        },
        "id": "zqnu05SZw2oq",
        "outputId": "a091f994-97c5-433b-b8d2-7842a407200b"
      },
      "outputs": [
        {
          "output_type": "display_data",
          "data": {
            "text/plain": [
              "<Figure size 360x360 with 1 Axes>"
            ],
            "image/png": "[encoded data removed]"
          },
          "metadata": {
            "needs_background": "light"
          }
        }
      ],
      "source": [
        "# Distribusi Harga Rumah Berdasarkan Lokasi Rumah\n",
        "p = sns.catplot(x=\"lokasi\", y=\"harga\", data=dfJ)"
      ]
    },
    {
      "cell_type": "code",
      "execution_count": null,
      "metadata": {
        "colab": {
          "base_uri": "https://localhost:8080/",
          "height": 369
        },
        "id": "YrXVlQypw2os",
        "outputId": "5aaf9c47-7f4f-470e-a5df-5eb3928c836b"
      },
      "outputs": [
        {
          "output_type": "display_data",
          "data": {
            "text/plain": [
              "<Figure size 360x360 with 1 Axes>"
            ],
            "image/png": "[encoded data removed]"
          },
          "metadata": {
            "needs_background": "light"
          }
        }
      ],
      "source": [
        "# Distribusi Luas Tanah Berdasarkan Lokasi Rumah\n",
        "p = sns.catplot(x=\"lokasi\", y=\"LT\", data=dfJ)"
      ]
    },
    {
      "cell_type": "code",
      "execution_count": null,
      "metadata": {
        "colab": {
          "base_uri": "https://localhost:8080/",
          "height": 493
        },
        "id": "1myQZRRfw2oq",
        "outputId": "6d9c1f9c-d55f-4148-e351-dede3b4313a9"
      },
      "outputs": [
        {
          "output_type": "stream",
          "name": "stderr",
          "text": [
            "/usr/local/lib/python3.7/dist-packages/pandas/io/formats/format.py:1429: FutureWarning: Index.ravel returning ndarray is deprecated; in a future version this will return a view on self.\n",
            "  for val, m in zip(values.ravel(), mask.ravel())\n",
            "/usr/local/lib/python3.7/dist-packages/pandas/io/formats/format.py:1429: FutureWarning: Index.ravel returning ndarray is deprecated; in a future version this will return a view on self.\n",
            "  for val, m in zip(values.ravel(), mask.ravel())\n",
            "/usr/local/lib/python3.7/dist-packages/seaborn/categorical.py:1296: UserWarning: 57.6% of the points cannot be placed; you may want to decrease the size of the markers or use stripplot.\n",
            "  warnings.warn(msg, UserWarning)\n"
          ]
        },
        {
          "output_type": "display_data",
          "data": {
            "text/plain": [
              "<Figure size 483.6x360 with 1 Axes>"
            ],
            "image/png": "[encoded data removed]"
          },
          "metadata": {
            "needs_background": "light"
          }
        }
      ],
      "source": [
        "# Distribusi Harga Rumah Berdasarkan Ketersediaan Garasi dan Lokasi Rumah\n",
        "q = sns.catplot(x=\"garasi\", y=\"harga\", hue=\"lokasi\", kind=\"swarm\", data=dfJ)"
      ]
    },
    {
      "cell_type": "markdown",
      "source": [
        "#Interpretasi\n",
        "Dilihat dari visualisasi pesebaran datanya, harga rumah yang berlokasi di Jakarta Timur cenderung berkumpul di harga yang rendah dibandingkan dengan lokasi lain. Asumsi kami kenapa harganya cenderung rendah, karena diliat dari visualisasi luas tanahnya, luas tanah rumah di jakarta timur juga cenderung berkumpul di rendah.\n",
        "\n",
        "Saran dari kami adalah rumah yang berlokasi di Jakarta Timur bisa menjadi prioritas dalam pertimbangan dalam investasi properti"
      ],
      "metadata": {
        "id": "gh9zN2sj4fKI"
      }
    }
  ],
  "metadata": {
    "kernelspec": {
      "display_name": "Python 3 (ipykernel)",
      "language": "python",
      "name": "python3"
    },
    "language_info": {
      "codemirror_mode": {
        "name": "ipython",
        "version": 3
      },
      "file_extension": ".py",
      "mimetype": "text/x-python",
      "name": "python",
      "nbconvert_exporter": "python",
      "pygments_lexer": "ipython3",
      "version": "3.10.4"
    },
    "colab": {
      "provenance": []
    }
  },
  "nbformat": 4,
  "nbformat_minor": 0
}