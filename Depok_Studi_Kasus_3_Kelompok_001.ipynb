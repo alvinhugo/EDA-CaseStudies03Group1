{
  "cells": [
    {
      "cell_type": "markdown",
      "metadata": {
        "id": "view-in-github",
        "colab_type": "text"
      },
      "source": [
        "<a href=\"https://colab.research.google.com/github/alvinhugo/studi-kasus-03-kelompok-01/blob/main/Depok_Studi_Kasus_3_Kelompok_001.ipynb\" target=\"_parent\"><img src=\"https://colab.research.google.com/assets/colab-badge.svg\" alt=\"Open In Colab\"/></a>"
      ]
    },
    {
      "cell_type": "markdown",
      "metadata": {
        "id": "ImvXnX71w2oV"
      },
      "source": [
        "**Study Case 3**\n",
        "\n",
        "Kelompok 1A\n",
        "1. Alvinhugo Zuhdi Nurharyadi (11210940000031)\n",
        "2. Della Wiyanti (11210940000014)\n",
        "3. Zahra Tifani Apriliana (11210940000029)\n",
        "4. Puput Hanifah Nuranisa (11210940000017)\n",
        "5. Zahra Khotimah (11210940000003)\n",
        "6. M. Ikhwan Farhat (11210940000007)"
      ]
    },
    {
      "cell_type": "code",
      "execution_count": null,
      "metadata": {
        "scrolled": false,
        "colab": {
          "base_uri": "https://localhost:8080/"
        },
        "id": "96lpUesKw2od",
        "outputId": "8299ca93-5cf9-4162-a708-633b9520450a"
      },
      "outputs": [
        {
          "output_type": "stream",
          "name": "stdout",
          "text": [
            "--2022-10-25 01:41:14--  https://raw.githubusercontent.com/taufiksutanto/EDA-Case-01-PreProcessing/master/data/jakarta.csv\n",
            "Resolving raw.githubusercontent.com (raw.githubusercontent.com)... 185.199.108.133, 185.199.109.133, 185.199.110.133, ...\n",
            "Connecting to raw.githubusercontent.com (raw.githubusercontent.com)|185.199.108.133|:443... connected.\n",
            "HTTP request sent, awaiting response... 200 OK\n",
            "Length: 65115 (64K) [text/plain]\n",
            "Saving to: ‘data/jakarta.csv’\n",
            "\n",
            "\rjakarta.csv           0%[                    ]       0  --.-KB/s               \rjakarta.csv         100%[===================>]  63.59K  --.-KB/s    in 0.007s  \n",
            "\n",
            "2022-10-25 01:41:14 (9.02 MB/s) - ‘data/jakarta.csv’ saved [65115/65115]\n",
            "\n",
            "--2022-10-25 01:41:14--  https://raw.githubusercontent.com/taufiksutanto/EDA-Case-01-PreProcessing/master/data/depok.csv\n",
            "Resolving raw.githubusercontent.com (raw.githubusercontent.com)... 185.199.109.133, 185.199.111.133, 185.199.110.133, ...\n",
            "Connecting to raw.githubusercontent.com (raw.githubusercontent.com)|185.199.109.133|:443... connected.\n",
            "HTTP request sent, awaiting response... 200 OK\n",
            "Length: 44190 (43K) [text/plain]\n",
            "Saving to: ‘data/depok.csv’\n",
            "\n",
            "depok.csv           100%[===================>]  43.15K  --.-KB/s    in 0.007s  \n",
            "\n",
            "2022-10-25 01:41:14 (5.95 MB/s) - ‘data/depok.csv’ saved [44190/44190]\n",
            "\n",
            "--2022-10-25 01:41:14--  https://raw.githubusercontent.com/taufiksutanto/EDA-Case-01-PreProcessing/master/data/tangerang.csv\n",
            "Resolving raw.githubusercontent.com (raw.githubusercontent.com)... 185.199.108.133, 185.199.109.133, 185.199.110.133, ...\n",
            "Connecting to raw.githubusercontent.com (raw.githubusercontent.com)|185.199.108.133|:443... connected.\n",
            "HTTP request sent, awaiting response... 200 OK\n",
            "Length: 46723 (46K) [text/plain]\n",
            "Saving to: ‘data/tangerang.csv’\n",
            "\n",
            "tangerang.csv       100%[===================>]  45.63K  --.-KB/s    in 0.007s  \n",
            "\n",
            "2022-10-25 01:41:14 (6.80 MB/s) - ‘data/tangerang.csv’ saved [46723/46723]\n",
            "\n"
          ]
        },
        {
          "output_type": "execute_result",
          "data": {
            "text/plain": [
              "((1024, 26), (998, 26), (128, 26))"
            ]
          },
          "metadata": {},
          "execution_count": 1
        }
      ],
      "source": [
        "# Loading Data:\n",
        "import pandas as pd\n",
        "import matplotlib\n",
        "import matplotlib.pyplot as plt\n",
        "import seaborn as sns\n",
        "import warnings\n",
        "import gc\n",
        "import numpy as np\n",
        "from collections import Counter\n",
        "matplotlib.rcParams['figure.dpi'] = 100\n",
        "sns.set()\n",
        "%matplotlib inline\n",
        "try: # Running Locally, yakinkan \"file_\" berada di folder \"data\"\n",
        "    dfJ = pd.read_csv(\"data/jakarta.csv\", low_memory = False, encoding='utf8')\n",
        "    dfD = pd.read_csv(\"data/depok.csv\", low_memory = False, encoding='utf8')\n",
        "    dfT = pd.read_csv(\"data/tangerang.csv\", low_memory = False, encoding='utf8')\n",
        "except: # Running in Google Colab\n",
        "    !mkdir data\n",
        "    !wget -P data/ https://raw.githubusercontent.com/taufiksutanto/EDA-Case-01-PreProcessing/master/data/jakarta.csv\n",
        "    !wget -P data/ https://raw.githubusercontent.com/taufiksutanto/EDA-Case-01-PreProcessing/master/data/depok.csv\n",
        "    !wget -P data/ https://raw.githubusercontent.com/taufiksutanto/EDA-Case-01-PreProcessing/master/data/tangerang.csv\n",
        "    dfJ = pd.read_csv(\"data/jakarta.csv\", low_memory = False, encoding='utf8')\n",
        "    dfD = pd.read_csv(\"data/depok.csv\", low_memory = False, encoding='utf8')\n",
        "    dfT = pd.read_csv(\"data/tangerang.csv\", low_memory = False, encoding='utf8')\n",
        "    \n",
        "dfJ.shape, dfD.shape, dfT.shape"
      ]
    },
    {
      "cell_type": "code",
      "execution_count": null,
      "metadata": {
        "colab": {
          "base_uri": "https://localhost:8080/"
        },
        "id": "wJ8CPvZZw2of",
        "outputId": "93889149-92af-4c41-e88f-0d2b155e3fbe"
      },
      "outputs": [
        {
          "output_type": "execute_result",
          "data": {
            "text/plain": [
              "created_at      object\n",
              "LT             float64\n",
              "LB             float64\n",
              "KT             float64\n",
              "KM             float64\n",
              "garasi        category\n",
              "carport       category\n",
              "lokasi        category\n",
              "sertifikat    category\n",
              "listrik        float64\n",
              "hadap         category\n",
              "harga          float64\n",
              "URL             object\n",
              "deskripsi       object\n",
              "dtype: object"
            ]
          },
          "metadata": {},
          "execution_count": 14
        }
      ],
      "source": [
        "# Mengganti type data yang kurang tepat saat dibaca oleh python\n",
        "dfD['LT'] = dfD['LT'].astype('float64')\n",
        "dfD['garasi'] = dfD['garasi'].astype('category')\n",
        "dfD['carport'] = dfD['carport'].astype('category')\n",
        "dfD['lokasi'] = dfD['lokasi'].astype('category')\n",
        "dfD['sertifikat'] = dfD['sertifikat'].astype('category')\n",
        "dfD['hadap'] = dfD['hadap'].astype('category')\n",
        "dfD.dtypes"
      ]
    },
    {
      "cell_type": "markdown",
      "metadata": {
        "id": "ftk6vcOYw2og"
      },
      "source": [
        "## Imputasi Missing Value"
      ]
    },
    {
      "cell_type": "code",
      "execution_count": null,
      "metadata": {
        "colab": {
          "base_uri": "https://localhost:8080/"
        },
        "id": "AwsbDZFLw2oh",
        "outputId": "5574f0c8-ab5e-4278-ff95-7fae3822d6d1"
      },
      "outputs": [
        {
          "output_type": "execute_result",
          "data": {
            "text/plain": [
              "4.06080190795883"
            ]
          },
          "metadata": {},
          "execution_count": 5
        }
      ],
      "source": [
        "# Mengecek skewness pada variabel yg memiliki missing value di data gedung\n",
        "dfD['listrik'].skew(axis = 0, skipna = True)"
      ]
    },
    {
      "cell_type": "code",
      "source": [
        "https://colab.research.google.com/drive/1AWCfhygLHRwgkYelFiBirQ4RCg1chbRT?usp=sharing"
      ],
      "metadata": {
        "id": "2SL3pvWjy--G"
      },
      "execution_count": null,
      "outputs": []
    },
    {
      "cell_type": "code",
      "execution_count": null,
      "metadata": {
        "scrolled": false,
        "id": "qFBCO8XIw2oi"
      },
      "outputs": [],
      "source": [
        "# Imputasi variabel yang terdapat missing value \n",
        "modus = dfD['garasi'].mode()[0]\n",
        "dfD['garasi'] = dfD['garasi'].fillna(modus)\n",
        "modus2 = dfD['carport'].mode()[0]\n",
        "dfD['carport'] = dfD['carport'].fillna(modus2)\n",
        "modus3 = dfD['hadap'].mode()[0]\n",
        "dfD['hadap'] = dfD['hadap'].fillna(modus3)\n",
        "modus4 = dfD['lokasi'].mode()[0]\n",
        "dfD['lokasi'] = dfD['lokasi'].fillna(modus4)\n",
        "modus5 = dfD['sertifikat'].mode()[0]\n",
        "dfD['sertifikat'] = dfD['sertifikat'].fillna(modus5)\n",
        "median6 = dfD['listrik'].mode()[0]\n",
        "dfD['listrik'] = dfD['listrik'].fillna(median6)\n"
      ]
    },
    {
      "cell_type": "code",
      "execution_count": null,
      "metadata": {
        "colab": {
          "base_uri": "https://localhost:8080/",
          "height": 991
        },
        "id": "0U12WtGsw2oi",
        "outputId": "eb629fcb-d5b4-4095-d84e-e9e8423f6672"
      },
      "outputs": [
        {
          "output_type": "execute_result",
          "data": {
            "text/plain": [
              "    created_at   LT     LB   KT   KM garasi carport     lokasi sertifikat  \\\n",
              "0    6-12-2021  165  200.0  4.0  2.0    1.0     1.0  Sukmajaya        SHM   \n",
              "1    6-12-2021   50   45.0  2.0  1.0    1.0     1.0   Cipayung        SHM   \n",
              "2    6-12-2021   50   36.0  2.0  1.0    1.0     1.0   Sawangan        SHM   \n",
              "3    6-12-2021   50   45.0  2.0  1.0    1.0     1.0  Cimanggis        SHM   \n",
              "4    6-12-2021   72   45.0  2.0  1.0    1.0     1.0   Sawangan        SHM   \n",
              "..         ...  ...    ...  ...  ...    ...     ...        ...        ...   \n",
              "113  4-12-2021   79  115.0  2.0  1.0    1.0     1.0  Sukmajaya        SHM   \n",
              "114  4-12-2021   72   45.0  2.0  1.0    1.0     1.0  Cimanggis        SHM   \n",
              "115  4-12-2021   40   40.0  2.0  1.0    1.0     1.0   Cipayung        SHM   \n",
              "116  4-12-2021   50   50.0  2.0  1.0    1.0     1.0   Cipayung        SHM   \n",
              "117  4-12-2021  100   15.0  3.0  3.0    1.0     1.0     Cinere        SHM   \n",
              "\n",
              "     listrik    hadap   harga  \\\n",
              "0     2200.0  Selatan  2100.0   \n",
              "1     1300.0    Utara   250.0   \n",
              "2     1300.0    Barat   250.0   \n",
              "3     1300.0    Utara   250.0   \n",
              "4     1300.0    Timur   350.0   \n",
              "..       ...      ...     ...   \n",
              "113   2200.0    Utara   750.0   \n",
              "114   2200.0    Utara  1000.0   \n",
              "115   1300.0    Timur   195.0   \n",
              "116   1300.0  Selatan   185.0   \n",
              "117   3500.0    Utara  1750.0   \n",
              "\n",
              "                                                   URL  \\\n",
              "0    https://www.rumah123.com/properti/depok/hos928...   \n",
              "1    https://www.rumah123.com/properti/depok/hos928...   \n",
              "2    https://www.rumah123.com/properti/depok/hos928...   \n",
              "3    https://www.rumah123.com/properti/depok/hos928...   \n",
              "4    https://www.rumah123.com/properti/depok/hos928...   \n",
              "..                                                 ...   \n",
              "113  https://www.rumah123.com/properti/depok/hos928...   \n",
              "114  https://www.rumah123.com/properti/depok/hos928...   \n",
              "115  https://www.rumah123.com/properti/depok/hos928...   \n",
              "116  https://www.rumah123.com/properti/depok/hos927...   \n",
              "117  https://www.rumah123.com/properti/depok/hos928...   \n",
              "\n",
              "                                             deskripsi  \n",
              "0                        Rumah siap huni komplek Pelni  \n",
              "1                  rumah minimalis termurah di citayam  \n",
              "2              CLUSTER TERMURAH DI SAWANGAN KOTA DEPOK  \n",
              "3     RUMAH SIAP HUNI HARGA NEGO DEKAT STASIUN CITAYAM  \n",
              "4                        Rumah Cluster Siap Huni Depok  \n",
              "..                                                 ...  \n",
              "113                               Rumah di Depok Timur  \n",
              "114                      PERUMAHAN NUANSA PERMAI DEPOK  \n",
              "115  rumah semi minimalis manis harga ekonomis di c...  \n",
              "116  rumah semi minimalis dua kamar siap huni di ci...  \n",
              "117                 Dijual cepat rumah bagus siap huni  \n",
              "\n",
              "[118 rows x 14 columns]"
            ],
            "text/html": [
              "\n",
              "  <div id=\"df-a7b33a73-c99d-48f3-ae1d-8c50437409fb\">\n",
              "    <div class=\"colab-df-container\">\n",
              "      <div>\n",
              "<style scoped>\n",
              "    .dataframe tbody tr th:only-of-type {\n",
              "        vertical-align: middle;\n",
              "    }\n",
              "\n",
              "    .dataframe tbody tr th {\n",
              "        vertical-align: top;\n",
              "    }\n",
              "\n",
              "    .dataframe thead th {\n",
              "        text-align: right;\n",
              "    }\n",
              "</style>\n",
              "<table border=\"1\" class=\"dataframe\">\n",
              "  <thead>\n",
              "    <tr style=\"text-align: right;\">\n",
              "      <th></th>\n",
              "      <th>created_at</th>\n",
              "      <th>LT</th>\n",
              "      <th>LB</th>\n",
              "      <th>KT</th>\n",
              "      <th>KM</th>\n",
              "      <th>garasi</th>\n",
              "      <th>carport</th>\n",
              "      <th>lokasi</th>\n",
              "      <th>sertifikat</th>\n",
              "      <th>listrik</th>\n",
              "      <th>hadap</th>\n",
              "      <th>harga</th>\n",
              "      <th>URL</th>\n",
              "      <th>deskripsi</th>\n",
              "    </tr>\n",
              "  </thead>\n",
              "  <tbody>\n",
              "    <tr>\n",
              "      <th>0</th>\n",
              "      <td>6-12-2021</td>\n",
              "      <td>165</td>\n",
              "      <td>200.0</td>\n",
              "      <td>4.0</td>\n",
              "      <td>2.0</td>\n",
              "      <td>1.0</td>\n",
              "      <td>1.0</td>\n",
              "      <td>Sukmajaya</td>\n",
              "      <td>SHM</td>\n",
              "      <td>2200.0</td>\n",
              "      <td>Selatan</td>\n",
              "      <td>2100.0</td>\n",
              "      <td>https://www.rumah123.com/properti/depok/hos928...</td>\n",
              "      <td>Rumah siap huni komplek Pelni</td>\n",
              "    </tr>\n",
              "    <tr>\n",
              "      <th>1</th>\n",
              "      <td>6-12-2021</td>\n",
              "      <td>50</td>\n",
              "      <td>45.0</td>\n",
              "      <td>2.0</td>\n",
              "      <td>1.0</td>\n",
              "      <td>1.0</td>\n",
              "      <td>1.0</td>\n",
              "      <td>Cipayung</td>\n",
              "      <td>SHM</td>\n",
              "      <td>1300.0</td>\n",
              "      <td>Utara</td>\n",
              "      <td>250.0</td>\n",
              "      <td>https://www.rumah123.com/properti/depok/hos928...</td>\n",
              "      <td>rumah minimalis termurah di citayam</td>\n",
              "    </tr>\n",
              "    <tr>\n",
              "      <th>2</th>\n",
              "      <td>6-12-2021</td>\n",
              "      <td>50</td>\n",
              "      <td>36.0</td>\n",
              "      <td>2.0</td>\n",
              "      <td>1.0</td>\n",
              "      <td>1.0</td>\n",
              "      <td>1.0</td>\n",
              "      <td>Sawangan</td>\n",
              "      <td>SHM</td>\n",
              "      <td>1300.0</td>\n",
              "      <td>Barat</td>\n",
              "      <td>250.0</td>\n",
              "      <td>https://www.rumah123.com/properti/depok/hos928...</td>\n",
              "      <td>CLUSTER TERMURAH DI SAWANGAN KOTA DEPOK</td>\n",
              "    </tr>\n",
              "    <tr>\n",
              "      <th>3</th>\n",
              "      <td>6-12-2021</td>\n",
              "      <td>50</td>\n",
              "      <td>45.0</td>\n",
              "      <td>2.0</td>\n",
              "      <td>1.0</td>\n",
              "      <td>1.0</td>\n",
              "      <td>1.0</td>\n",
              "      <td>Cimanggis</td>\n",
              "      <td>SHM</td>\n",
              "      <td>1300.0</td>\n",
              "      <td>Utara</td>\n",
              "      <td>250.0</td>\n",
              "      <td>https://www.rumah123.com/properti/depok/hos928...</td>\n",
              "      <td>RUMAH SIAP HUNI HARGA NEGO DEKAT STASIUN CITAYAM</td>\n",
              "    </tr>\n",
              "    <tr>\n",
              "      <th>4</th>\n",
              "      <td>6-12-2021</td>\n",
              "      <td>72</td>\n",
              "      <td>45.0</td>\n",
              "      <td>2.0</td>\n",
              "      <td>1.0</td>\n",
              "      <td>1.0</td>\n",
              "      <td>1.0</td>\n",
              "      <td>Sawangan</td>\n",
              "      <td>SHM</td>\n",
              "      <td>1300.0</td>\n",
              "      <td>Timur</td>\n",
              "      <td>350.0</td>\n",
              "      <td>https://www.rumah123.com/properti/depok/hos928...</td>\n",
              "      <td>Rumah Cluster Siap Huni Depok</td>\n",
              "    </tr>\n",
              "    <tr>\n",
              "      <th>...</th>\n",
              "      <td>...</td>\n",
              "      <td>...</td>\n",
              "      <td>...</td>\n",
              "      <td>...</td>\n",
              "      <td>...</td>\n",
              "      <td>...</td>\n",
              "      <td>...</td>\n",
              "      <td>...</td>\n",
              "      <td>...</td>\n",
              "      <td>...</td>\n",
              "      <td>...</td>\n",
              "      <td>...</td>\n",
              "      <td>...</td>\n",
              "      <td>...</td>\n",
              "    </tr>\n",
              "    <tr>\n",
              "      <th>113</th>\n",
              "      <td>4-12-2021</td>\n",
              "      <td>79</td>\n",
              "      <td>115.0</td>\n",
              "      <td>2.0</td>\n",
              "      <td>1.0</td>\n",
              "      <td>1.0</td>\n",
              "      <td>1.0</td>\n",
              "      <td>Sukmajaya</td>\n",
              "      <td>SHM</td>\n",
              "      <td>2200.0</td>\n",
              "      <td>Utara</td>\n",
              "      <td>750.0</td>\n",
              "      <td>https://www.rumah123.com/properti/depok/hos928...</td>\n",
              "      <td>Rumah di Depok Timur</td>\n",
              "    </tr>\n",
              "    <tr>\n",
              "      <th>114</th>\n",
              "      <td>4-12-2021</td>\n",
              "      <td>72</td>\n",
              "      <td>45.0</td>\n",
              "      <td>2.0</td>\n",
              "      <td>1.0</td>\n",
              "      <td>1.0</td>\n",
              "      <td>1.0</td>\n",
              "      <td>Cimanggis</td>\n",
              "      <td>SHM</td>\n",
              "      <td>2200.0</td>\n",
              "      <td>Utara</td>\n",
              "      <td>1000.0</td>\n",
              "      <td>https://www.rumah123.com/properti/depok/hos928...</td>\n",
              "      <td>PERUMAHAN NUANSA PERMAI DEPOK</td>\n",
              "    </tr>\n",
              "    <tr>\n",
              "      <th>115</th>\n",
              "      <td>4-12-2021</td>\n",
              "      <td>40</td>\n",
              "      <td>40.0</td>\n",
              "      <td>2.0</td>\n",
              "      <td>1.0</td>\n",
              "      <td>1.0</td>\n",
              "      <td>1.0</td>\n",
              "      <td>Cipayung</td>\n",
              "      <td>SHM</td>\n",
              "      <td>1300.0</td>\n",
              "      <td>Timur</td>\n",
              "      <td>195.0</td>\n",
              "      <td>https://www.rumah123.com/properti/depok/hos928...</td>\n",
              "      <td>rumah semi minimalis manis harga ekonomis di c...</td>\n",
              "    </tr>\n",
              "    <tr>\n",
              "      <th>116</th>\n",
              "      <td>4-12-2021</td>\n",
              "      <td>50</td>\n",
              "      <td>50.0</td>\n",
              "      <td>2.0</td>\n",
              "      <td>1.0</td>\n",
              "      <td>1.0</td>\n",
              "      <td>1.0</td>\n",
              "      <td>Cipayung</td>\n",
              "      <td>SHM</td>\n",
              "      <td>1300.0</td>\n",
              "      <td>Selatan</td>\n",
              "      <td>185.0</td>\n",
              "      <td>https://www.rumah123.com/properti/depok/hos927...</td>\n",
              "      <td>rumah semi minimalis dua kamar siap huni di ci...</td>\n",
              "    </tr>\n",
              "    <tr>\n",
              "      <th>117</th>\n",
              "      <td>4-12-2021</td>\n",
              "      <td>100</td>\n",
              "      <td>15.0</td>\n",
              "      <td>3.0</td>\n",
              "      <td>3.0</td>\n",
              "      <td>1.0</td>\n",
              "      <td>1.0</td>\n",
              "      <td>Cinere</td>\n",
              "      <td>SHM</td>\n",
              "      <td>3500.0</td>\n",
              "      <td>Utara</td>\n",
              "      <td>1750.0</td>\n",
              "      <td>https://www.rumah123.com/properti/depok/hos928...</td>\n",
              "      <td>Dijual cepat rumah bagus siap huni</td>\n",
              "    </tr>\n",
              "  </tbody>\n",
              "</table>\n",
              "<p>118 rows × 14 columns</p>\n",
              "</div>\n",
              "      <button class=\"colab-df-convert\" onclick=\"convertToInteractive('df-a7b33a73-c99d-48f3-ae1d-8c50437409fb')\"\n",
              "              title=\"Convert this dataframe to an interactive table.\"\n",
              "              style=\"display:none;\">\n",
              "        \n",
              "  <svg xmlns=\"http://www.w3.org/2000/svg\" height=\"24px\"viewBox=\"0 0 24 24\"\n",
              "       width=\"24px\">\n",
              "    <path d=\"M0 0h24v24H0V0z\" fill=\"none\"/>\n",
              "    <path d=\"M18.56 5.44l.94 2.06.94-2.06 2.06-.94-2.06-.94-.94-2.06-.94 2.06-2.06.94zm-11 1L8.5 8.5l.94-2.06 2.06-.94-2.06-.94L8.5 2.5l-.94 2.06-2.06.94zm10 10l.94 2.06.94-2.06 2.06-.94-2.06-.94-.94-2.06-.94 2.06-2.06.94z\"/><path d=\"M17.41 7.96l-1.37-1.37c-.4-.4-.92-.59-1.43-.59-.52 0-1.04.2-1.43.59L10.3 9.45l-7.72 7.72c-.78.78-.78 2.05 0 2.83L4 21.41c.39.39.9.59 1.41.59.51 0 1.02-.2 1.41-.59l7.78-7.78 2.81-2.81c.8-.78.8-2.07 0-2.86zM5.41 20L4 18.59l7.72-7.72 1.47 1.35L5.41 20z\"/>\n",
              "  </svg>\n",
              "      </button>\n",
              "      \n",
              "  <style>\n",
              "    .colab-df-container {\n",
              "      display:flex;\n",
              "      flex-wrap:wrap;\n",
              "      gap: 12px;\n",
              "    }\n",
              "\n",
              "    .colab-df-convert {\n",
              "      background-color: #E8F0FE;\n",
              "      border: none;\n",
              "      border-radius: 50%;\n",
              "      cursor: pointer;\n",
              "      display: none;\n",
              "      fill: #1967D2;\n",
              "      height: 32px;\n",
              "      padding: 0 0 0 0;\n",
              "      width: 32px;\n",
              "    }\n",
              "\n",
              "    .colab-df-convert:hover {\n",
              "      background-color: #E2EBFA;\n",
              "      box-shadow: 0px 1px 2px rgba(60, 64, 67, 0.3), 0px 1px 3px 1px rgba(60, 64, 67, 0.15);\n",
              "      fill: #174EA6;\n",
              "    }\n",
              "\n",
              "    [theme=dark] .colab-df-convert {\n",
              "      background-color: #3B4455;\n",
              "      fill: #D2E3FC;\n",
              "    }\n",
              "\n",
              "    [theme=dark] .colab-df-convert:hover {\n",
              "      background-color: #434B5C;\n",
              "      box-shadow: 0px 1px 3px 1px rgba(0, 0, 0, 0.15);\n",
              "      filter: drop-shadow(0px 1px 2px rgba(0, 0, 0, 0.3));\n",
              "      fill: #FFFFFF;\n",
              "    }\n",
              "  </style>\n",
              "\n",
              "      <script>\n",
              "        const buttonEl =\n",
              "          document.querySelector('#df-a7b33a73-c99d-48f3-ae1d-8c50437409fb button.colab-df-convert');\n",
              "        buttonEl.style.display =\n",
              "          google.colab.kernel.accessAllowed ? 'block' : 'none';\n",
              "\n",
              "        async function convertToInteractive(key) {\n",
              "          const element = document.querySelector('#df-a7b33a73-c99d-48f3-ae1d-8c50437409fb');\n",
              "          const dataTable =\n",
              "            await google.colab.kernel.invokeFunction('convertToInteractive',\n",
              "                                                     [key], {});\n",
              "          if (!dataTable) return;\n",
              "\n",
              "          const docLinkHtml = 'Like what you see? Visit the ' +\n",
              "            '<a target=\"_blank\" href=https://colab.research.google.com/notebooks/data_table.ipynb>data table notebook</a>'\n",
              "            + ' to learn more about interactive tables.';\n",
              "          element.innerHTML = '';\n",
              "          dataTable['output_type'] = 'display_data';\n",
              "          await google.colab.output.renderOutput(dataTable, element);\n",
              "          const docLink = document.createElement('div');\n",
              "          docLink.innerHTML = docLinkHtml;\n",
              "          element.appendChild(docLink);\n",
              "        }\n",
              "      </script>\n",
              "    </div>\n",
              "  </div>\n",
              "  "
            ]
          },
          "metadata": {},
          "execution_count": 9
        }
      ],
      "source": [
        "dfD = dfD.dropna(axis=1,how='all')\n",
        "dfD = dfD.dropna(axis=0,how='all')\n",
        "dfD = dfD.dropna()\n",
        "dfD"
      ]
    },
    {
      "cell_type": "code",
      "source": [
        "# Mengecek kembali missing value di tiap variabel pada Data Rumah Jual Depok\n",
        "dfD.isnull().sum()"
      ],
      "metadata": {
        "colab": {
          "base_uri": "https://localhost:8080/"
        },
        "id": "9qz8NMX41zjY",
        "outputId": "969f8774-efe3-47c6-970e-0625ffda40b5"
      },
      "execution_count": null,
      "outputs": [
        {
          "output_type": "execute_result",
          "data": {
            "text/plain": [
              "created_at    0\n",
              "LT            0\n",
              "LB            0\n",
              "KT            0\n",
              "KM            0\n",
              "garasi        0\n",
              "carport       0\n",
              "lokasi        0\n",
              "sertifikat    0\n",
              "listrik       0\n",
              "hadap         0\n",
              "harga         0\n",
              "URL           0\n",
              "deskripsi     0\n",
              "dtype: int64"
            ]
          },
          "metadata": {},
          "execution_count": 10
        }
      ]
    },
    {
      "cell_type": "code",
      "execution_count": null,
      "metadata": {
        "colab": {
          "base_uri": "https://localhost:8080/"
        },
        "id": "wDzNk17Kw2oj",
        "outputId": "ce6df406-d837-4b17-90fa-85d0a0c5b296"
      },
      "outputs": [
        {
          "output_type": "execute_result",
          "data": {
            "text/plain": [
              "0"
            ]
          },
          "metadata": {},
          "execution_count": 11
        }
      ],
      "source": [
        "# Mengecek apakah ada data yang sama (duplikasi) di Data Rumah Jual Depok\n",
        "dfD.duplicated().sum()"
      ]
    },
    {
      "cell_type": "markdown",
      "metadata": {
        "id": "DntGEhs-w2on"
      },
      "source": [
        "## Statistika Deskriptif"
      ]
    },
    {
      "cell_type": "code",
      "execution_count": null,
      "metadata": {
        "scrolled": true,
        "id": "kJtsWh6Yw2on",
        "outputId": "937dbd3b-48c5-4f36-c218-7e0d8fd74e72",
        "colab": {
          "base_uri": "https://localhost:8080/",
          "height": 238
        }
      },
      "outputs": [
        {
          "output_type": "execute_result",
          "data": {
            "text/plain": [
              "         count         mean          std    min     25%     50%      75%  \\\n",
              "LT       118.0   119.872881   171.402388   36.0    60.0    72.0   100.00   \n",
              "LB       118.0    92.618644    92.630404   15.0    46.0    61.0   102.25   \n",
              "KT       118.0     2.737288     1.024720    2.0     2.0     3.0     3.00   \n",
              "KM       118.0     1.940678     0.980950    1.0     1.0     2.0     2.00   \n",
              "listrik  118.0  2154.237288  1089.078970  900.0  1300.0  2200.0  2200.00   \n",
              "harga    118.0  1194.440678  1474.387409   41.0   485.0   810.0  1137.50   \n",
              "\n",
              "             max  \n",
              "LT        1024.0  \n",
              "LB         600.0  \n",
              "KT           7.0  \n",
              "KM           5.0  \n",
              "listrik  10000.0  \n",
              "harga     9000.0  "
            ],
            "text/html": [
              "\n",
              "  <div id=\"df-b28082b2-8781-4ff1-aa45-6adfc815d790\">\n",
              "    <div class=\"colab-df-container\">\n",
              "      <div>\n",
              "<style scoped>\n",
              "    .dataframe tbody tr th:only-of-type {\n",
              "        vertical-align: middle;\n",
              "    }\n",
              "\n",
              "    .dataframe tbody tr th {\n",
              "        vertical-align: top;\n",
              "    }\n",
              "\n",
              "    .dataframe thead th {\n",
              "        text-align: right;\n",
              "    }\n",
              "</style>\n",
              "<table border=\"1\" class=\"dataframe\">\n",
              "  <thead>\n",
              "    <tr style=\"text-align: right;\">\n",
              "      <th></th>\n",
              "      <th>count</th>\n",
              "      <th>mean</th>\n",
              "      <th>std</th>\n",
              "      <th>min</th>\n",
              "      <th>25%</th>\n",
              "      <th>50%</th>\n",
              "      <th>75%</th>\n",
              "      <th>max</th>\n",
              "    </tr>\n",
              "  </thead>\n",
              "  <tbody>\n",
              "    <tr>\n",
              "      <th>LT</th>\n",
              "      <td>118.0</td>\n",
              "      <td>119.872881</td>\n",
              "      <td>171.402388</td>\n",
              "      <td>36.0</td>\n",
              "      <td>60.0</td>\n",
              "      <td>72.0</td>\n",
              "      <td>100.00</td>\n",
              "      <td>1024.0</td>\n",
              "    </tr>\n",
              "    <tr>\n",
              "      <th>LB</th>\n",
              "      <td>118.0</td>\n",
              "      <td>92.618644</td>\n",
              "      <td>92.630404</td>\n",
              "      <td>15.0</td>\n",
              "      <td>46.0</td>\n",
              "      <td>61.0</td>\n",
              "      <td>102.25</td>\n",
              "      <td>600.0</td>\n",
              "    </tr>\n",
              "    <tr>\n",
              "      <th>KT</th>\n",
              "      <td>118.0</td>\n",
              "      <td>2.737288</td>\n",
              "      <td>1.024720</td>\n",
              "      <td>2.0</td>\n",
              "      <td>2.0</td>\n",
              "      <td>3.0</td>\n",
              "      <td>3.00</td>\n",
              "      <td>7.0</td>\n",
              "    </tr>\n",
              "    <tr>\n",
              "      <th>KM</th>\n",
              "      <td>118.0</td>\n",
              "      <td>1.940678</td>\n",
              "      <td>0.980950</td>\n",
              "      <td>1.0</td>\n",
              "      <td>1.0</td>\n",
              "      <td>2.0</td>\n",
              "      <td>2.00</td>\n",
              "      <td>5.0</td>\n",
              "    </tr>\n",
              "    <tr>\n",
              "      <th>listrik</th>\n",
              "      <td>118.0</td>\n",
              "      <td>2154.237288</td>\n",
              "      <td>1089.078970</td>\n",
              "      <td>900.0</td>\n",
              "      <td>1300.0</td>\n",
              "      <td>2200.0</td>\n",
              "      <td>2200.00</td>\n",
              "      <td>10000.0</td>\n",
              "    </tr>\n",
              "    <tr>\n",
              "      <th>harga</th>\n",
              "      <td>118.0</td>\n",
              "      <td>1194.440678</td>\n",
              "      <td>1474.387409</td>\n",
              "      <td>41.0</td>\n",
              "      <td>485.0</td>\n",
              "      <td>810.0</td>\n",
              "      <td>1137.50</td>\n",
              "      <td>9000.0</td>\n",
              "    </tr>\n",
              "  </tbody>\n",
              "</table>\n",
              "</div>\n",
              "      <button class=\"colab-df-convert\" onclick=\"convertToInteractive('df-b28082b2-8781-4ff1-aa45-6adfc815d790')\"\n",
              "              title=\"Convert this dataframe to an interactive table.\"\n",
              "              style=\"display:none;\">\n",
              "        \n",
              "  <svg xmlns=\"http://www.w3.org/2000/svg\" height=\"24px\"viewBox=\"0 0 24 24\"\n",
              "       width=\"24px\">\n",
              "    <path d=\"M0 0h24v24H0V0z\" fill=\"none\"/>\n",
              "    <path d=\"M18.56 5.44l.94 2.06.94-2.06 2.06-.94-2.06-.94-.94-2.06-.94 2.06-2.06.94zm-11 1L8.5 8.5l.94-2.06 2.06-.94-2.06-.94L8.5 2.5l-.94 2.06-2.06.94zm10 10l.94 2.06.94-2.06 2.06-.94-2.06-.94-.94-2.06-.94 2.06-2.06.94z\"/><path d=\"M17.41 7.96l-1.37-1.37c-.4-.4-.92-.59-1.43-.59-.52 0-1.04.2-1.43.59L10.3 9.45l-7.72 7.72c-.78.78-.78 2.05 0 2.83L4 21.41c.39.39.9.59 1.41.59.51 0 1.02-.2 1.41-.59l7.78-7.78 2.81-2.81c.8-.78.8-2.07 0-2.86zM5.41 20L4 18.59l7.72-7.72 1.47 1.35L5.41 20z\"/>\n",
              "  </svg>\n",
              "      </button>\n",
              "      \n",
              "  <style>\n",
              "    .colab-df-container {\n",
              "      display:flex;\n",
              "      flex-wrap:wrap;\n",
              "      gap: 12px;\n",
              "    }\n",
              "\n",
              "    .colab-df-convert {\n",
              "      background-color: #E8F0FE;\n",
              "      border: none;\n",
              "      border-radius: 50%;\n",
              "      cursor: pointer;\n",
              "      display: none;\n",
              "      fill: #1967D2;\n",
              "      height: 32px;\n",
              "      padding: 0 0 0 0;\n",
              "      width: 32px;\n",
              "    }\n",
              "\n",
              "    .colab-df-convert:hover {\n",
              "      background-color: #E2EBFA;\n",
              "      box-shadow: 0px 1px 2px rgba(60, 64, 67, 0.3), 0px 1px 3px 1px rgba(60, 64, 67, 0.15);\n",
              "      fill: #174EA6;\n",
              "    }\n",
              "\n",
              "    [theme=dark] .colab-df-convert {\n",
              "      background-color: #3B4455;\n",
              "      fill: #D2E3FC;\n",
              "    }\n",
              "\n",
              "    [theme=dark] .colab-df-convert:hover {\n",
              "      background-color: #434B5C;\n",
              "      box-shadow: 0px 1px 3px 1px rgba(0, 0, 0, 0.15);\n",
              "      filter: drop-shadow(0px 1px 2px rgba(0, 0, 0, 0.3));\n",
              "      fill: #FFFFFF;\n",
              "    }\n",
              "  </style>\n",
              "\n",
              "      <script>\n",
              "        const buttonEl =\n",
              "          document.querySelector('#df-b28082b2-8781-4ff1-aa45-6adfc815d790 button.colab-df-convert');\n",
              "        buttonEl.style.display =\n",
              "          google.colab.kernel.accessAllowed ? 'block' : 'none';\n",
              "\n",
              "        async function convertToInteractive(key) {\n",
              "          const element = document.querySelector('#df-b28082b2-8781-4ff1-aa45-6adfc815d790');\n",
              "          const dataTable =\n",
              "            await google.colab.kernel.invokeFunction('convertToInteractive',\n",
              "                                                     [key], {});\n",
              "          if (!dataTable) return;\n",
              "\n",
              "          const docLinkHtml = 'Like what you see? Visit the ' +\n",
              "            '<a target=\"_blank\" href=https://colab.research.google.com/notebooks/data_table.ipynb>data table notebook</a>'\n",
              "            + ' to learn more about interactive tables.';\n",
              "          element.innerHTML = '';\n",
              "          dataTable['output_type'] = 'display_data';\n",
              "          await google.colab.output.renderOutput(dataTable, element);\n",
              "          const docLink = document.createElement('div');\n",
              "          docLink.innerHTML = docLinkHtml;\n",
              "          element.appendChild(docLink);\n",
              "        }\n",
              "      </script>\n",
              "    </div>\n",
              "  </div>\n",
              "  "
            ]
          },
          "metadata": {},
          "execution_count": 17
        }
      ],
      "source": [
        "dfD.describe().transpose()"
      ]
    },
    {
      "cell_type": "code",
      "execution_count": null,
      "metadata": {
        "id": "h-rixTjkw2oo",
        "outputId": "aefcdc9c-218a-4bf0-cbc2-637bcda1d039",
        "colab": {
          "base_uri": "https://localhost:8080/"
        }
      },
      "outputs": [
        {
          "output_type": "stream",
          "name": "stdout",
          "text": [
            "<class 'pandas.core.frame.DataFrame'>\n",
            "Int64Index: 118 entries, 0 to 117\n",
            "Data columns (total 14 columns):\n",
            " #   Column      Non-Null Count  Dtype   \n",
            "---  ------      --------------  -----   \n",
            " 0   created_at  118 non-null    object  \n",
            " 1   LT          118 non-null    float64 \n",
            " 2   LB          118 non-null    float64 \n",
            " 3   KT          118 non-null    float64 \n",
            " 4   KM          118 non-null    float64 \n",
            " 5   garasi      118 non-null    category\n",
            " 6   carport     118 non-null    category\n",
            " 7   lokasi      118 non-null    category\n",
            " 8   sertifikat  118 non-null    category\n",
            " 9   listrik     118 non-null    float64 \n",
            " 10  hadap       118 non-null    category\n",
            " 11  harga       118 non-null    float64 \n",
            " 12  URL         118 non-null    object  \n",
            " 13  deskripsi   118 non-null    object  \n",
            "dtypes: category(5), float64(6), object(3)\n",
            "memory usage: 10.9+ KB\n"
          ]
        }
      ],
      "source": [
        "dfD.info()"
      ]
    },
    {
      "cell_type": "markdown",
      "metadata": {
        "id": "g3SseqUmw2oo"
      },
      "source": [
        "## Visualisasi Data"
      ]
    },
    {
      "cell_type": "code",
      "execution_count": null,
      "metadata": {
        "id": "zqnu05SZw2oq",
        "outputId": "5c843a91-6d08-4027-f014-f2234be2967f",
        "colab": {
          "base_uri": "https://localhost:8080/",
          "height": 369
        }
      },
      "outputs": [
        {
          "output_type": "display_data",
          "data": {
            "text/plain": [
              "<Figure size 360x360 with 1 Axes>"
            ],
            "image/png": "[encoded data removed]"
          },
          "metadata": {
            "needs_background": "light"
          }
        }
      ],
      "source": [
        "# Distribusi Harga Rumah Berdasarkan Lokasi Rumah\n",
        "p = sns.catplot(x=\"lokasi\", y=\"harga\", data=dfD)"
      ]
    },
    {
      "cell_type": "markdown",
      "source": [
        "#Interpretasi:\n",
        "Berdasarkan visualisasi diatas, dapat dilihat pada penyebaran data di wilayah Tapos. Data mengumpul dibagian bawah dengan harga rumah < 2000 dan juga terdapat harga rumah yang mendekati 0. Hal ini sangat menarik, maka kami mengasumsikan, di wilayah tersebut harga rumah relatif murah. Sehingga dapat diprioritaskan untuk menjadikan investasi properti."
      ],
      "metadata": {
        "id": "AGetOOIA_3lZ"
      }
    },
    {
      "cell_type": "code",
      "execution_count": null,
      "metadata": {
        "id": "1myQZRRfw2oq",
        "outputId": "23e1e0c1-4f39-4289-97ba-0550c323c73e",
        "colab": {
          "base_uri": "https://localhost:8080/",
          "height": 493
        }
      },
      "outputs": [
        {
          "output_type": "stream",
          "name": "stderr",
          "text": [
            "/usr/local/lib/python3.7/dist-packages/pandas/io/formats/format.py:1429: FutureWarning: Index.ravel returning ndarray is deprecated; in a future version this will return a view on self.\n",
            "  for val, m in zip(values.ravel(), mask.ravel())\n",
            "/usr/local/lib/python3.7/dist-packages/pandas/io/formats/format.py:1429: FutureWarning: Index.ravel returning ndarray is deprecated; in a future version this will return a view on self.\n",
            "  for val, m in zip(values.ravel(), mask.ravel())\n",
            "/usr/local/lib/python3.7/dist-packages/seaborn/categorical.py:1296: UserWarning: 21.3% of the points cannot be placed; you may want to decrease the size of the markers or use stripplot.\n",
            "  warnings.warn(msg, UserWarning)\n"
          ]
        },
        {
          "output_type": "display_data",
          "data": {
            "text/plain": [
              "<Figure size 476.225x360 with 1 Axes>"
            ],
            "image/png": "[encoded data removed]"
          },
          "metadata": {
            "needs_background": "light"
          }
        }
      ],
      "source": [
        "# Distribusi Harga Rumah Berdasarkan Ketersediaan Garasi dan Lokasi Rumah\n",
        "q = sns.catplot(x=\"garasi\", y=\"harga\", hue=\"lokasi\", kind=\"swarm\", data=dfD)"
      ]
    },
    {
      "cell_type": "code",
      "execution_count": null,
      "metadata": {
        "id": "nmv-vBn_w2or",
        "outputId": "069eb724-9678-48ae-ed0b-8a40fe77f19e",
        "colab": {
          "base_uri": "https://localhost:8080/",
          "height": 528
        }
      },
      "outputs": [
        {
          "output_type": "stream",
          "name": "stderr",
          "text": [
            "/usr/local/lib/python3.7/dist-packages/pandas/io/formats/format.py:1429: FutureWarning: Index.ravel returning ndarray is deprecated; in a future version this will return a view on self.\n",
            "  for val, m in zip(values.ravel(), mask.ravel())\n",
            "/usr/local/lib/python3.7/dist-packages/pandas/io/formats/format.py:1429: FutureWarning: Index.ravel returning ndarray is deprecated; in a future version this will return a view on self.\n",
            "  for val, m in zip(values.ravel(), mask.ravel())\n",
            "/usr/local/lib/python3.7/dist-packages/seaborn/categorical.py:1296: UserWarning: 26.4% of the points cannot be placed; you may want to decrease the size of the markers or use stripplot.\n",
            "  warnings.warn(msg, UserWarning)\n",
            "/usr/local/lib/python3.7/dist-packages/seaborn/categorical.py:1296: UserWarning: 19.5% of the points cannot be placed; you may want to decrease the size of the markers or use stripplot.\n",
            "  warnings.warn(msg, UserWarning)\n"
          ]
        },
        {
          "output_type": "display_data",
          "data": {
            "text/plain": [
              "<Figure size 476.225x360 with 1 Axes>"
            ],
            "image/png": "[encoded data removed]"
          },
          "metadata": {
            "needs_background": "light"
          }
        }
      ],
      "source": [
        "# Distribusi Harga Rumah Berdasarkan Ketersediaan Carport dan Lokasi Rumah\n",
        "r = sns.catplot(x=\"carport\", y=\"harga\", hue=\"lokasi\", kind=\"swarm\", data=dfD)"
      ]
    },
    {
      "cell_type": "markdown",
      "source": [
        "#Interpretasi:\n",
        "Berdasarkan visualisasi di atas, terdapat informasi menarik yaitu dilihat dari lokasi rumah di wilayah Tapos. Pada lokasi rumah tersebut, terdapat rumah dengan jumlah ketersediaan carport 1, garasi 1, dan memiliki harga rendah < 2000. Menurut kami hal ini cukup menarik untuk diselidiki apakah rumah tersebut dalam keadaan layak huni atau tidak. Maka dari itu, diperlukan survei lebih lanjut untuk lokasi rumah di wilayah tersebut."
      ],
      "metadata": {
        "id": "iSOAuyYG7A3d"
      }
    },
    {
      "cell_type": "code",
      "execution_count": null,
      "metadata": {
        "id": "33I7PXXRw2or",
        "outputId": "7932514b-6cbb-4ee4-9c38-26bf85168c47",
        "colab": {
          "base_uri": "https://localhost:8080/",
          "height": 493
        }
      },
      "outputs": [
        {
          "output_type": "stream",
          "name": "stderr",
          "text": [
            "/usr/local/lib/python3.7/dist-packages/pandas/io/formats/format.py:1429: FutureWarning: Index.ravel returning ndarray is deprecated; in a future version this will return a view on self.\n",
            "  for val, m in zip(values.ravel(), mask.ravel())\n",
            "/usr/local/lib/python3.7/dist-packages/pandas/io/formats/format.py:1429: FutureWarning: Index.ravel returning ndarray is deprecated; in a future version this will return a view on self.\n",
            "  for val, m in zip(values.ravel(), mask.ravel())\n",
            "/usr/local/lib/python3.7/dist-packages/seaborn/categorical.py:1296: UserWarning: 45.4% of the points cannot be placed; you may want to decrease the size of the markers or use stripplot.\n",
            "  warnings.warn(msg, UserWarning)\n"
          ]
        },
        {
          "output_type": "display_data",
          "data": {
            "text/plain": [
              "<Figure size 476.225x360 with 1 Axes>"
            ],
            "image/png": "[encoded data removed]"
          },
          "metadata": {
            "needs_background": "light"
          }
        }
      ],
      "source": [
        "# Distribusi Luas Tanah Rumah Berdasarkan Lokasi dan Ketersediaan Garasi\n",
        "u = sns.catplot(x=\"garasi\", y=\"LT\", hue=\"lokasi\", kind=\"swarm\", data=dfD)\n"
      ]
    },
    {
      "cell_type": "code",
      "execution_count": null,
      "metadata": {
        "id": "YrXVlQypw2os",
        "outputId": "3a5b1643-257d-4d3a-a962-a5baada8ac16",
        "colab": {
          "base_uri": "https://localhost:8080/",
          "height": 369
        }
      },
      "outputs": [
        {
          "output_type": "display_data",
          "data": {
            "text/plain": [
              "<Figure size 360x360 with 1 Axes>"
            ],
            "image/png": "[encoded data removed]"
          },
          "metadata": {
            "needs_background": "light"
          }
        }
      ],
      "source": [
        "# Distribusi Luas Tanah Berdasarkan Lokasi Rumah\n",
        "p = sns.catplot(x=\"lokasi\", y=\"LT\", data=dfD)"
      ]
    },
    {
      "cell_type": "markdown",
      "source": [
        "#Interpretasi:\n",
        "Berdasarkan visualisasi diatas, dapat dilihat pada lokasi rumah di wiilayah Cipayung. Dapat disimpulkan bahwa terdapat rumah-rumah dengan luas tanah tidak terlalu besar < 200, garasi kurang lebih 1, dan memiliki harga yang rendah. Maka menurut kami, hal ini dapat dijadikan pilihan untuk yang membutuhkan rumah yang minimalis."
      ],
      "metadata": {
        "id": "_WMD03BoDr0A"
      }
    }
  ],
  "metadata": {
    "kernelspec": {
      "display_name": "Python 3 (ipykernel)",
      "language": "python",
      "name": "python3"
    },
    "language_info": {
      "codemirror_mode": {
        "name": "ipython",
        "version": 3
      },
      "file_extension": ".py",
      "mimetype": "text/x-python",
      "name": "python",
      "nbconvert_exporter": "python",
      "pygments_lexer": "ipython3",
      "version": "3.10.4"
    },
    "colab": {
      "provenance": [],
      "collapsed_sections": [],
      "include_colab_link": true
    }
  },
  "nbformat": 4,
  "nbformat_minor": 0
}