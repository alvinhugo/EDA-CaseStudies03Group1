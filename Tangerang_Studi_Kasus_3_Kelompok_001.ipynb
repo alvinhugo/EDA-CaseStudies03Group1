{
  "nbformat": 4,
  "nbformat_minor": 0,
  "metadata": {
    "colab": {
      "provenance": [],
      "include_colab_link": true
    },
    "kernelspec": {
      "name": "python3",
      "display_name": "Python 3"
    },
    "language_info": {
      "name": "python"
    }
  },
  "cells": [
    {
      "cell_type": "markdown",
      "metadata": {
        "id": "view-in-github",
        "colab_type": "text"
      },
      "source": [
        "<a href=\"https://colab.research.google.com/github/alvinhugo/studi-kasus-03-kelompok-01/blob/main/Tangerang_Studi_Kasus_3_Kelompok_001.ipynb\" target=\"_parent\"><img src=\"https://colab.research.google.com/assets/colab-badge.svg\" alt=\"Open In Colab\"/></a>"
      ]
    },
    {
      "cell_type": "markdown",
      "source": [
        "##TANGERANG"
      ],
      "metadata": {
        "id": "F02IHKUOE-dp"
      }
    },
    {
      "cell_type": "code",
      "source": [
        "# Loading Data:\n",
        "import pandas as pd\n",
        "import matplotlib\n",
        "import matplotlib.pyplot as plt\n",
        "import seaborn as sns\n",
        "import warnings\n",
        "import gc\n",
        "import numpy as np\n",
        "from collections import Counter\n",
        "import missingno\n",
        "matplotlib.rcParams['figure.dpi'] = 100\n",
        "sns.set()\n",
        "%matplotlib inline\n",
        "try: # Running Locally, yakinkan \"file_\" berada di folder \"data\"\n",
        "    dfJ = pd.read_csv(\"data/jakarta.csv\", low_memory = False, encoding='utf8')\n",
        "    dfD = pd.read_csv(\"data/depok.csv\", low_memory = False, encoding='utf8')\n",
        "    dfT = pd.read_csv(\"data/tangerang.csv\", low_memory = False, encoding='utf8')\n",
        "except: # Running in Google Colab\n",
        "    !mkdir data\n",
        "    !wget -P data/ https://raw.githubusercontent.com/taufiksutanto/EDA-Case-01-PreProcessing/master/data/jakarta.csv\n",
        "    !wget -P data/ https://raw.githubusercontent.com/taufiksutanto/EDA-Case-01-PreProcessing/master/data/depok.csv\n",
        "    !wget -P data/ https://raw.githubusercontent.com/taufiksutanto/EDA-Case-01-PreProcessing/master/data/tangerang.csv\n",
        "    dfJ = pd.read_csv(\"data/jakarta.csv\", low_memory = False, encoding='utf8')\n",
        "    dfD = pd.read_csv(\"data/depok.csv\", low_memory = False, encoding='utf8')\n",
        "    dfT = pd.read_csv(\"data/tangerang.csv\", low_memory = False, encoding='utf8')\n",
        "    \n",
        "dfJ.shape, dfD.shape, dfT.shape"
      ],
      "metadata": {
        "colab": {
          "base_uri": "https://localhost:8080/"
        },
        "id": "T8hF0z4uovs8",
        "outputId": "dfb002f5-6c7b-44a2-fdda-d5d9e1459f24"
      },
      "execution_count": null,
      "outputs": [
        {
          "output_type": "execute_result",
          "data": {
            "text/plain": [
              "((1024, 26), (998, 26), (128, 26))"
            ]
          },
          "metadata": {},
          "execution_count": 31
        }
      ]
    },
    {
      "cell_type": "code",
      "source": [
        "dfT = dfT.dropna(axis=1,how='all')\n",
        "dfT = dfT.dropna(axis=0,how='all')\n",
        "dfT = dfT.dropna()\n",
        "dfT"
      ],
      "metadata": {
        "colab": {
          "base_uri": "https://localhost:8080/",
          "height": 864
        },
        "id": "VfvDaY3XpHEz",
        "outputId": "3b4fcb03-2c4e-464a-ab58-93da360455b1"
      },
      "execution_count": null,
      "outputs": [
        {
          "output_type": "execute_result",
          "data": {
            "text/plain": [
              "     created_at     LT     LB   KT   KM garasi carport  \\\n",
              "7    12-06-2021   72.0   45.0  2.0  1.0    1.0     1.0   \n",
              "8    12-06-2021  151.0  120.0  2.0  2.0    1.0     1.0   \n",
              "10   12-06-2021   60.0   48.0  3.0  2.0    2.0     2.0   \n",
              "13   12-06-2021   72.0   40.0  2.0  1.0    1.0     1.0   \n",
              "16   12-06-2021  250.0  360.0  5.0  4.0    1.0     1.0   \n",
              "40   12-06-2021   60.0   48.0  3.0  2.0    2.0     2.0   \n",
              "45   12-06-2021  320.0  225.0  3.0  3.0    1.0     1.0   \n",
              "54   12-06-2021  474.0  500.0  6.0  5.0    4.0     2.0   \n",
              "55   12-06-2021  250.0  380.0  6.0  4.0    1.0     1.0   \n",
              "84   12-06-2021  144.0  117.0  3.0  3.0    1.0     1.0   \n",
              "90   12-06-2021  180.0  250.0  5.0  4.0    1.0     1.0   \n",
              "101  12-06-2021  308.0  492.0  4.0  4.0    2.0     2.0   \n",
              "109  12-07-2021  276.0  441.0  4.0  4.0    2.0     2.0   \n",
              "118  12-08-2021  300.0  148.0  4.0  3.0    2.0     2.0   \n",
              "121  12-08-2021  202.0   85.0  4.0  3.0    1.0     1.0   \n",
              "\n",
              "                           lokasi                       sertifikat  listrik  \\\n",
              "7              SEPATAN, TANGERANG                              SHM   1300.0   \n",
              "8    CIKUPA CITRA JAYA, TANGERANG                              SHM   1300.0   \n",
              "10       PONDOK JAGUNG, TANGERANG                              SHM   2200.0   \n",
              "13   CIKUPA CITRA JAYA, TANGERANG                              SHM   1300.0   \n",
              "16               BENDA, TANGERANG                              SHM   4400.0   \n",
              "40            BSD CITY, TANGERANG                              SHM   2200.0   \n",
              "45        BSD THE ICON, TANGERANG  lainnya(PPJB, GIRIK, ADAT, dll)   4400.0   \n",
              "54         BSD DE PARK, TANGERANG                              SHM  23000.0   \n",
              "55                 BSD, TANGERANG                              SHM   5500.0   \n",
              "84       BANJAR WIJAYA, TANGERANG                              SHM   2200.0   \n",
              "90                 BSD, TANGERANG                              SHM   3500.0   \n",
              "101        BSD FORESTA, TANGERANG  lainnya(PPJB, GIRIK, ADAT, dll)   2200.0   \n",
              "109                BSD, TANGERANG                              SHM  11000.0   \n",
              "118        PONDOK CABE, TANGERANG                              SHM   2200.0   \n",
              "121     BSD Griya Loka, Tangerang                              SHM   2200.0   \n",
              "\n",
              "          hadap    harga                                                URL  \\\n",
              "7       Selatan    148.0  https://www.rumah123.com/properti/tangerang/ho...   \n",
              "8       Selatan    760.0  https://www.rumah123.com/properti/tangerang/ho...   \n",
              "10     Tenggara    600.0  https://www.rumah123.com/properti/tangerang/ho...   \n",
              "13        Timur    500.0  https://www.rumah123.com/properti/tangerang/ho...   \n",
              "16        Timur   2900.0  https://www.rumah123.com/properti/tangerang/ho...   \n",
              "40      Selatan    600.0  https://www.rumah123.com/properti/tangerang/ho...   \n",
              "45   Barat Daya   5300.0  https://www.rumah123.com/properti/tangerang/ho...   \n",
              "54        Utara  12500.0  https://www.rumah123.com/properti/tangerang/ho...   \n",
              "55        Barat   5050.0  https://www.rumah123.com/properti/tangerang/ho...   \n",
              "84        Utara   1950.0  https://www.rumah123.com/properti/tangerang/ho...   \n",
              "90      Selatan   3300.0  https://www.rumah123.com/properti/tangerang/ho...   \n",
              "101       Utara   7700.0  https://www.rumah123.com/properti/tangerang/ho...   \n",
              "109  Timur Laut   1260.0  https://www.rumah123.com/properti/tangerang/ho...   \n",
              "118       Timur   1900.0  https://www.rumah123.com/properti/tangerang/ho...   \n",
              "121       Barat   1860.0  https://www.rumah123.com/properti/tangerang/ho...   \n",
              "\n",
              "                                             deskripsi  \n",
              "7    Akses Bandara Soekarno-Hatta, Jalan Row 10 met...  \n",
              "8    Lokasi rumah sangat strategis dekat fasilitas ...  \n",
              "10   Memiliki lokasi yang strategis yaitu 100 meter...  \n",
              "13                Keamanan 24 jam dan sangat strategis  \n",
              "16   Memiliki lantai granit, 1 gudang, Water heater...  \n",
              "40   BOSTON VILLAGE BSD- BINTARO\\r\\nAkses 100 Meter...  \n",
              "45   Rumah cluster, siap huni, bersih terawat, ling...  \n",
              "54   LT 474, LB +/- 500 (full renovated), KT 6+2, K...  \n",
              "55   Rumah di kawasan BSD, Luas tanah : 250 m2, Lua...  \n",
              "84   Memiliki fasilitas keamanan, Masjid, Jogging T...  \n",
              "90   Dijual Rumah Terawat dan Rapih Siap Huni di BS...  \n",
              "101  Dijual Rumah Brand New Bsd City: Foresta, Luas...  \n",
              "109  Cluster Laurel at Navapark. Modern Tropical Li...  \n",
              "118  DIJUAL DI BAWAH HARGA PASAR, HARGA PASARAN MAS...  \n",
              "121  1-7 km ke Stasiun Rawa Buntu, Rs Eka Hospital,...  "
            ],
            "text/html": [
              "\n",
              "  <div id=\"df-844118b2-f034-47d2-a3c0-2f7c3323d425\">\n",
              "    <div class=\"colab-df-container\">\n",
              "      <div>\n",
              "<style scoped>\n",
              "    .dataframe tbody tr th:only-of-type {\n",
              "        vertical-align: middle;\n",
              "    }\n",
              "\n",
              "    .dataframe tbody tr th {\n",
              "        vertical-align: top;\n",
              "    }\n",
              "\n",
              "    .dataframe thead th {\n",
              "        text-align: right;\n",
              "    }\n",
              "</style>\n",
              "<table border=\"1\" class=\"dataframe\">\n",
              "  <thead>\n",
              "    <tr style=\"text-align: right;\">\n",
              "      <th></th>\n",
              "      <th>created_at</th>\n",
              "      <th>LT</th>\n",
              "      <th>LB</th>\n",
              "      <th>KT</th>\n",
              "      <th>KM</th>\n",
              "      <th>garasi</th>\n",
              "      <th>carport</th>\n",
              "      <th>lokasi</th>\n",
              "      <th>sertifikat</th>\n",
              "      <th>listrik</th>\n",
              "      <th>hadap</th>\n",
              "      <th>harga</th>\n",
              "      <th>URL</th>\n",
              "      <th>deskripsi</th>\n",
              "    </tr>\n",
              "  </thead>\n",
              "  <tbody>\n",
              "    <tr>\n",
              "      <th>7</th>\n",
              "      <td>12-06-2021</td>\n",
              "      <td>72.0</td>\n",
              "      <td>45.0</td>\n",
              "      <td>2.0</td>\n",
              "      <td>1.0</td>\n",
              "      <td>1.0</td>\n",
              "      <td>1.0</td>\n",
              "      <td>SEPATAN, TANGERANG</td>\n",
              "      <td>SHM</td>\n",
              "      <td>1300.0</td>\n",
              "      <td>Selatan</td>\n",
              "      <td>148.0</td>\n",
              "      <td>https://www.rumah123.com/properti/tangerang/ho...</td>\n",
              "      <td>Akses Bandara Soekarno-Hatta, Jalan Row 10 met...</td>\n",
              "    </tr>\n",
              "    <tr>\n",
              "      <th>8</th>\n",
              "      <td>12-06-2021</td>\n",
              "      <td>151.0</td>\n",
              "      <td>120.0</td>\n",
              "      <td>2.0</td>\n",
              "      <td>2.0</td>\n",
              "      <td>1.0</td>\n",
              "      <td>1.0</td>\n",
              "      <td>CIKUPA CITRA JAYA, TANGERANG</td>\n",
              "      <td>SHM</td>\n",
              "      <td>1300.0</td>\n",
              "      <td>Selatan</td>\n",
              "      <td>760.0</td>\n",
              "      <td>https://www.rumah123.com/properti/tangerang/ho...</td>\n",
              "      <td>Lokasi rumah sangat strategis dekat fasilitas ...</td>\n",
              "    </tr>\n",
              "    <tr>\n",
              "      <th>10</th>\n",
              "      <td>12-06-2021</td>\n",
              "      <td>60.0</td>\n",
              "      <td>48.0</td>\n",
              "      <td>3.0</td>\n",
              "      <td>2.0</td>\n",
              "      <td>2.0</td>\n",
              "      <td>2.0</td>\n",
              "      <td>PONDOK JAGUNG, TANGERANG</td>\n",
              "      <td>SHM</td>\n",
              "      <td>2200.0</td>\n",
              "      <td>Tenggara</td>\n",
              "      <td>600.0</td>\n",
              "      <td>https://www.rumah123.com/properti/tangerang/ho...</td>\n",
              "      <td>Memiliki lokasi yang strategis yaitu 100 meter...</td>\n",
              "    </tr>\n",
              "    <tr>\n",
              "      <th>13</th>\n",
              "      <td>12-06-2021</td>\n",
              "      <td>72.0</td>\n",
              "      <td>40.0</td>\n",
              "      <td>2.0</td>\n",
              "      <td>1.0</td>\n",
              "      <td>1.0</td>\n",
              "      <td>1.0</td>\n",
              "      <td>CIKUPA CITRA JAYA, TANGERANG</td>\n",
              "      <td>SHM</td>\n",
              "      <td>1300.0</td>\n",
              "      <td>Timur</td>\n",
              "      <td>500.0</td>\n",
              "      <td>https://www.rumah123.com/properti/tangerang/ho...</td>\n",
              "      <td>Keamanan 24 jam dan sangat strategis</td>\n",
              "    </tr>\n",
              "    <tr>\n",
              "      <th>16</th>\n",
              "      <td>12-06-2021</td>\n",
              "      <td>250.0</td>\n",
              "      <td>360.0</td>\n",
              "      <td>5.0</td>\n",
              "      <td>4.0</td>\n",
              "      <td>1.0</td>\n",
              "      <td>1.0</td>\n",
              "      <td>BENDA, TANGERANG</td>\n",
              "      <td>SHM</td>\n",
              "      <td>4400.0</td>\n",
              "      <td>Timur</td>\n",
              "      <td>2900.0</td>\n",
              "      <td>https://www.rumah123.com/properti/tangerang/ho...</td>\n",
              "      <td>Memiliki lantai granit, 1 gudang, Water heater...</td>\n",
              "    </tr>\n",
              "    <tr>\n",
              "      <th>40</th>\n",
              "      <td>12-06-2021</td>\n",
              "      <td>60.0</td>\n",
              "      <td>48.0</td>\n",
              "      <td>3.0</td>\n",
              "      <td>2.0</td>\n",
              "      <td>2.0</td>\n",
              "      <td>2.0</td>\n",
              "      <td>BSD CITY, TANGERANG</td>\n",
              "      <td>SHM</td>\n",
              "      <td>2200.0</td>\n",
              "      <td>Selatan</td>\n",
              "      <td>600.0</td>\n",
              "      <td>https://www.rumah123.com/properti/tangerang/ho...</td>\n",
              "      <td>BOSTON VILLAGE BSD- BINTARO\\r\\nAkses 100 Meter...</td>\n",
              "    </tr>\n",
              "    <tr>\n",
              "      <th>45</th>\n",
              "      <td>12-06-2021</td>\n",
              "      <td>320.0</td>\n",
              "      <td>225.0</td>\n",
              "      <td>3.0</td>\n",
              "      <td>3.0</td>\n",
              "      <td>1.0</td>\n",
              "      <td>1.0</td>\n",
              "      <td>BSD THE ICON, TANGERANG</td>\n",
              "      <td>lainnya(PPJB, GIRIK, ADAT, dll)</td>\n",
              "      <td>4400.0</td>\n",
              "      <td>Barat Daya</td>\n",
              "      <td>5300.0</td>\n",
              "      <td>https://www.rumah123.com/properti/tangerang/ho...</td>\n",
              "      <td>Rumah cluster, siap huni, bersih terawat, ling...</td>\n",
              "    </tr>\n",
              "    <tr>\n",
              "      <th>54</th>\n",
              "      <td>12-06-2021</td>\n",
              "      <td>474.0</td>\n",
              "      <td>500.0</td>\n",
              "      <td>6.0</td>\n",
              "      <td>5.0</td>\n",
              "      <td>4.0</td>\n",
              "      <td>2.0</td>\n",
              "      <td>BSD DE PARK, TANGERANG</td>\n",
              "      <td>SHM</td>\n",
              "      <td>23000.0</td>\n",
              "      <td>Utara</td>\n",
              "      <td>12500.0</td>\n",
              "      <td>https://www.rumah123.com/properti/tangerang/ho...</td>\n",
              "      <td>LT 474, LB +/- 500 (full renovated), KT 6+2, K...</td>\n",
              "    </tr>\n",
              "    <tr>\n",
              "      <th>55</th>\n",
              "      <td>12-06-2021</td>\n",
              "      <td>250.0</td>\n",
              "      <td>380.0</td>\n",
              "      <td>6.0</td>\n",
              "      <td>4.0</td>\n",
              "      <td>1.0</td>\n",
              "      <td>1.0</td>\n",
              "      <td>BSD, TANGERANG</td>\n",
              "      <td>SHM</td>\n",
              "      <td>5500.0</td>\n",
              "      <td>Barat</td>\n",
              "      <td>5050.0</td>\n",
              "      <td>https://www.rumah123.com/properti/tangerang/ho...</td>\n",
              "      <td>Rumah di kawasan BSD, Luas tanah : 250 m2, Lua...</td>\n",
              "    </tr>\n",
              "    <tr>\n",
              "      <th>84</th>\n",
              "      <td>12-06-2021</td>\n",
              "      <td>144.0</td>\n",
              "      <td>117.0</td>\n",
              "      <td>3.0</td>\n",
              "      <td>3.0</td>\n",
              "      <td>1.0</td>\n",
              "      <td>1.0</td>\n",
              "      <td>BANJAR WIJAYA, TANGERANG</td>\n",
              "      <td>SHM</td>\n",
              "      <td>2200.0</td>\n",
              "      <td>Utara</td>\n",
              "      <td>1950.0</td>\n",
              "      <td>https://www.rumah123.com/properti/tangerang/ho...</td>\n",
              "      <td>Memiliki fasilitas keamanan, Masjid, Jogging T...</td>\n",
              "    </tr>\n",
              "    <tr>\n",
              "      <th>90</th>\n",
              "      <td>12-06-2021</td>\n",
              "      <td>180.0</td>\n",
              "      <td>250.0</td>\n",
              "      <td>5.0</td>\n",
              "      <td>4.0</td>\n",
              "      <td>1.0</td>\n",
              "      <td>1.0</td>\n",
              "      <td>BSD, TANGERANG</td>\n",
              "      <td>SHM</td>\n",
              "      <td>3500.0</td>\n",
              "      <td>Selatan</td>\n",
              "      <td>3300.0</td>\n",
              "      <td>https://www.rumah123.com/properti/tangerang/ho...</td>\n",
              "      <td>Dijual Rumah Terawat dan Rapih Siap Huni di BS...</td>\n",
              "    </tr>\n",
              "    <tr>\n",
              "      <th>101</th>\n",
              "      <td>12-06-2021</td>\n",
              "      <td>308.0</td>\n",
              "      <td>492.0</td>\n",
              "      <td>4.0</td>\n",
              "      <td>4.0</td>\n",
              "      <td>2.0</td>\n",
              "      <td>2.0</td>\n",
              "      <td>BSD FORESTA, TANGERANG</td>\n",
              "      <td>lainnya(PPJB, GIRIK, ADAT, dll)</td>\n",
              "      <td>2200.0</td>\n",
              "      <td>Utara</td>\n",
              "      <td>7700.0</td>\n",
              "      <td>https://www.rumah123.com/properti/tangerang/ho...</td>\n",
              "      <td>Dijual Rumah Brand New Bsd City: Foresta, Luas...</td>\n",
              "    </tr>\n",
              "    <tr>\n",
              "      <th>109</th>\n",
              "      <td>12-07-2021</td>\n",
              "      <td>276.0</td>\n",
              "      <td>441.0</td>\n",
              "      <td>4.0</td>\n",
              "      <td>4.0</td>\n",
              "      <td>2.0</td>\n",
              "      <td>2.0</td>\n",
              "      <td>BSD, TANGERANG</td>\n",
              "      <td>SHM</td>\n",
              "      <td>11000.0</td>\n",
              "      <td>Timur Laut</td>\n",
              "      <td>1260.0</td>\n",
              "      <td>https://www.rumah123.com/properti/tangerang/ho...</td>\n",
              "      <td>Cluster Laurel at Navapark. Modern Tropical Li...</td>\n",
              "    </tr>\n",
              "    <tr>\n",
              "      <th>118</th>\n",
              "      <td>12-08-2021</td>\n",
              "      <td>300.0</td>\n",
              "      <td>148.0</td>\n",
              "      <td>4.0</td>\n",
              "      <td>3.0</td>\n",
              "      <td>2.0</td>\n",
              "      <td>2.0</td>\n",
              "      <td>PONDOK CABE, TANGERANG</td>\n",
              "      <td>SHM</td>\n",
              "      <td>2200.0</td>\n",
              "      <td>Timur</td>\n",
              "      <td>1900.0</td>\n",
              "      <td>https://www.rumah123.com/properti/tangerang/ho...</td>\n",
              "      <td>DIJUAL DI BAWAH HARGA PASAR, HARGA PASARAN MAS...</td>\n",
              "    </tr>\n",
              "    <tr>\n",
              "      <th>121</th>\n",
              "      <td>12-08-2021</td>\n",
              "      <td>202.0</td>\n",
              "      <td>85.0</td>\n",
              "      <td>4.0</td>\n",
              "      <td>3.0</td>\n",
              "      <td>1.0</td>\n",
              "      <td>1.0</td>\n",
              "      <td>BSD Griya Loka, Tangerang</td>\n",
              "      <td>SHM</td>\n",
              "      <td>2200.0</td>\n",
              "      <td>Barat</td>\n",
              "      <td>1860.0</td>\n",
              "      <td>https://www.rumah123.com/properti/tangerang/ho...</td>\n",
              "      <td>1-7 km ke Stasiun Rawa Buntu, Rs Eka Hospital,...</td>\n",
              "    </tr>\n",
              "  </tbody>\n",
              "</table>\n",
              "</div>\n",
              "      <button class=\"colab-df-convert\" onclick=\"convertToInteractive('df-844118b2-f034-47d2-a3c0-2f7c3323d425')\"\n",
              "              title=\"Convert this dataframe to an interactive table.\"\n",
              "              style=\"display:none;\">\n",
              "        \n",
              "  <svg xmlns=\"http://www.w3.org/2000/svg\" height=\"24px\"viewBox=\"0 0 24 24\"\n",
              "       width=\"24px\">\n",
              "    <path d=\"M0 0h24v24H0V0z\" fill=\"none\"/>\n",
              "    <path d=\"M18.56 5.44l.94 2.06.94-2.06 2.06-.94-2.06-.94-.94-2.06-.94 2.06-2.06.94zm-11 1L8.5 8.5l.94-2.06 2.06-.94-2.06-.94L8.5 2.5l-.94 2.06-2.06.94zm10 10l.94 2.06.94-2.06 2.06-.94-2.06-.94-.94-2.06-.94 2.06-2.06.94z\"/><path d=\"M17.41 7.96l-1.37-1.37c-.4-.4-.92-.59-1.43-.59-.52 0-1.04.2-1.43.59L10.3 9.45l-7.72 7.72c-.78.78-.78 2.05 0 2.83L4 21.41c.39.39.9.59 1.41.59.51 0 1.02-.2 1.41-.59l7.78-7.78 2.81-2.81c.8-.78.8-2.07 0-2.86zM5.41 20L4 18.59l7.72-7.72 1.47 1.35L5.41 20z\"/>\n",
              "  </svg>\n",
              "      </button>\n",
              "      \n",
              "  <style>\n",
              "    .colab-df-container {\n",
              "      display:flex;\n",
              "      flex-wrap:wrap;\n",
              "      gap: 12px;\n",
              "    }\n",
              "\n",
              "    .colab-df-convert {\n",
              "      background-color: #E8F0FE;\n",
              "      border: none;\n",
              "      border-radius: 50%;\n",
              "      cursor: pointer;\n",
              "      display: none;\n",
              "      fill: #1967D2;\n",
              "      height: 32px;\n",
              "      padding: 0 0 0 0;\n",
              "      width: 32px;\n",
              "    }\n",
              "\n",
              "    .colab-df-convert:hover {\n",
              "      background-color: #E2EBFA;\n",
              "      box-shadow: 0px 1px 2px rgba(60, 64, 67, 0.3), 0px 1px 3px 1px rgba(60, 64, 67, 0.15);\n",
              "      fill: #174EA6;\n",
              "    }\n",
              "\n",
              "    [theme=dark] .colab-df-convert {\n",
              "      background-color: #3B4455;\n",
              "      fill: #D2E3FC;\n",
              "    }\n",
              "\n",
              "    [theme=dark] .colab-df-convert:hover {\n",
              "      background-color: #434B5C;\n",
              "      box-shadow: 0px 1px 3px 1px rgba(0, 0, 0, 0.15);\n",
              "      filter: drop-shadow(0px 1px 2px rgba(0, 0, 0, 0.3));\n",
              "      fill: #FFFFFF;\n",
              "    }\n",
              "  </style>\n",
              "\n",
              "      <script>\n",
              "        const buttonEl =\n",
              "          document.querySelector('#df-844118b2-f034-47d2-a3c0-2f7c3323d425 button.colab-df-convert');\n",
              "        buttonEl.style.display =\n",
              "          google.colab.kernel.accessAllowed ? 'block' : 'none';\n",
              "\n",
              "        async function convertToInteractive(key) {\n",
              "          const element = document.querySelector('#df-844118b2-f034-47d2-a3c0-2f7c3323d425');\n",
              "          const dataTable =\n",
              "            await google.colab.kernel.invokeFunction('convertToInteractive',\n",
              "                                                     [key], {});\n",
              "          if (!dataTable) return;\n",
              "\n",
              "          const docLinkHtml = 'Like what you see? Visit the ' +\n",
              "            '<a target=\"_blank\" href=https://colab.research.google.com/notebooks/data_table.ipynb>data table notebook</a>'\n",
              "            + ' to learn more about interactive tables.';\n",
              "          element.innerHTML = '';\n",
              "          dataTable['output_type'] = 'display_data';\n",
              "          await google.colab.output.renderOutput(dataTable, element);\n",
              "          const docLink = document.createElement('div');\n",
              "          docLink.innerHTML = docLinkHtml;\n",
              "          element.appendChild(docLink);\n",
              "        }\n",
              "      </script>\n",
              "    </div>\n",
              "  </div>\n",
              "  "
            ]
          },
          "metadata": {},
          "execution_count": 44
        }
      ]
    },
    {
      "cell_type": "code",
      "source": [
        "dfT.isnull().sum()"
      ],
      "metadata": {
        "colab": {
          "base_uri": "https://localhost:8080/"
        },
        "id": "YgLh4AocxjXC",
        "outputId": "60eadda6-501c-4bd7-e379-01b5a518c628"
      },
      "execution_count": null,
      "outputs": [
        {
          "output_type": "execute_result",
          "data": {
            "text/plain": [
              "created_at    0\n",
              "LT            0\n",
              "LB            0\n",
              "KT            0\n",
              "KM            0\n",
              "garasi        0\n",
              "carport       0\n",
              "lokasi        0\n",
              "sertifikat    0\n",
              "listrik       0\n",
              "hadap         0\n",
              "harga         0\n",
              "URL           0\n",
              "deskripsi     0\n",
              "dtype: int64"
            ]
          },
          "metadata": {},
          "execution_count": 45
        }
      ]
    },
    {
      "cell_type": "code",
      "source": [
        "# Mengecek apakah ada data yang sama (duplikasi) di Data Rumah Jual Tangerang\n",
        "dfT.duplicated().sum()"
      ],
      "metadata": {
        "colab": {
          "base_uri": "https://localhost:8080/"
        },
        "id": "ytL4-H9qz-Me",
        "outputId": "d5a1d5c4-dcb9-4a11-902a-677bf3554c07"
      },
      "execution_count": null,
      "outputs": [
        {
          "output_type": "execute_result",
          "data": {
            "text/plain": [
              "0"
            ]
          },
          "metadata": {},
          "execution_count": 59
        }
      ]
    },
    {
      "cell_type": "markdown",
      "source": [
        "##Statistika Deskriptif\n"
      ],
      "metadata": {
        "id": "D61TkoNE1pJR"
      }
    },
    {
      "cell_type": "code",
      "source": [
        "dfT.describe().transpose()"
      ],
      "metadata": {
        "colab": {
          "base_uri": "https://localhost:8080/",
          "height": 238
        },
        "id": "nfHozpjo1pjy",
        "outputId": "c6e6f695-770e-43c3-b02c-cf54e1157855"
      },
      "execution_count": null,
      "outputs": [
        {
          "output_type": "execute_result",
          "data": {
            "text/plain": [
              "         count         mean          std     min     25%     50%     75%  \\\n",
              "LT        15.0   207.933333   119.188007    60.0   108.0   202.0   288.0   \n",
              "LB        15.0   219.933333   171.872239    40.0    66.5   148.0   370.0   \n",
              "KT        15.0     3.733333     1.334523     2.0     3.0     4.0     4.5   \n",
              "KM        15.0     3.000000     1.195229     1.0     2.0     3.0     4.0   \n",
              "listrik   15.0  4593.333333  5662.213937  1300.0  2200.0  2200.0  4400.0   \n",
              "harga     15.0  3088.533333  3374.019770   148.0   680.0  1900.0  4175.0   \n",
              "\n",
              "             max  \n",
              "LT         474.0  \n",
              "LB         500.0  \n",
              "KT           6.0  \n",
              "KM           5.0  \n",
              "listrik  23000.0  \n",
              "harga    12500.0  "
            ],
            "text/html": [
              "\n",
              "  <div id=\"df-839800a0-8ac2-479e-ad3a-a8b32a2f20d8\">\n",
              "    <div class=\"colab-df-container\">\n",
              "      <div>\n",
              "<style scoped>\n",
              "    .dataframe tbody tr th:only-of-type {\n",
              "        vertical-align: middle;\n",
              "    }\n",
              "\n",
              "    .dataframe tbody tr th {\n",
              "        vertical-align: top;\n",
              "    }\n",
              "\n",
              "    .dataframe thead th {\n",
              "        text-align: right;\n",
              "    }\n",
              "</style>\n",
              "<table border=\"1\" class=\"dataframe\">\n",
              "  <thead>\n",
              "    <tr style=\"text-align: right;\">\n",
              "      <th></th>\n",
              "      <th>count</th>\n",
              "      <th>mean</th>\n",
              "      <th>std</th>\n",
              "      <th>min</th>\n",
              "      <th>25%</th>\n",
              "      <th>50%</th>\n",
              "      <th>75%</th>\n",
              "      <th>max</th>\n",
              "    </tr>\n",
              "  </thead>\n",
              "  <tbody>\n",
              "    <tr>\n",
              "      <th>LT</th>\n",
              "      <td>15.0</td>\n",
              "      <td>207.933333</td>\n",
              "      <td>119.188007</td>\n",
              "      <td>60.0</td>\n",
              "      <td>108.0</td>\n",
              "      <td>202.0</td>\n",
              "      <td>288.0</td>\n",
              "      <td>474.0</td>\n",
              "    </tr>\n",
              "    <tr>\n",
              "      <th>LB</th>\n",
              "      <td>15.0</td>\n",
              "      <td>219.933333</td>\n",
              "      <td>171.872239</td>\n",
              "      <td>40.0</td>\n",
              "      <td>66.5</td>\n",
              "      <td>148.0</td>\n",
              "      <td>370.0</td>\n",
              "      <td>500.0</td>\n",
              "    </tr>\n",
              "    <tr>\n",
              "      <th>KT</th>\n",
              "      <td>15.0</td>\n",
              "      <td>3.733333</td>\n",
              "      <td>1.334523</td>\n",
              "      <td>2.0</td>\n",
              "      <td>3.0</td>\n",
              "      <td>4.0</td>\n",
              "      <td>4.5</td>\n",
              "      <td>6.0</td>\n",
              "    </tr>\n",
              "    <tr>\n",
              "      <th>KM</th>\n",
              "      <td>15.0</td>\n",
              "      <td>3.000000</td>\n",
              "      <td>1.195229</td>\n",
              "      <td>1.0</td>\n",
              "      <td>2.0</td>\n",
              "      <td>3.0</td>\n",
              "      <td>4.0</td>\n",
              "      <td>5.0</td>\n",
              "    </tr>\n",
              "    <tr>\n",
              "      <th>listrik</th>\n",
              "      <td>15.0</td>\n",
              "      <td>4593.333333</td>\n",
              "      <td>5662.213937</td>\n",
              "      <td>1300.0</td>\n",
              "      <td>2200.0</td>\n",
              "      <td>2200.0</td>\n",
              "      <td>4400.0</td>\n",
              "      <td>23000.0</td>\n",
              "    </tr>\n",
              "    <tr>\n",
              "      <th>harga</th>\n",
              "      <td>15.0</td>\n",
              "      <td>3088.533333</td>\n",
              "      <td>3374.019770</td>\n",
              "      <td>148.0</td>\n",
              "      <td>680.0</td>\n",
              "      <td>1900.0</td>\n",
              "      <td>4175.0</td>\n",
              "      <td>12500.0</td>\n",
              "    </tr>\n",
              "  </tbody>\n",
              "</table>\n",
              "</div>\n",
              "      <button class=\"colab-df-convert\" onclick=\"convertToInteractive('df-839800a0-8ac2-479e-ad3a-a8b32a2f20d8')\"\n",
              "              title=\"Convert this dataframe to an interactive table.\"\n",
              "              style=\"display:none;\">\n",
              "        \n",
              "  <svg xmlns=\"http://www.w3.org/2000/svg\" height=\"24px\"viewBox=\"0 0 24 24\"\n",
              "       width=\"24px\">\n",
              "    <path d=\"M0 0h24v24H0V0z\" fill=\"none\"/>\n",
              "    <path d=\"M18.56 5.44l.94 2.06.94-2.06 2.06-.94-2.06-.94-.94-2.06-.94 2.06-2.06.94zm-11 1L8.5 8.5l.94-2.06 2.06-.94-2.06-.94L8.5 2.5l-.94 2.06-2.06.94zm10 10l.94 2.06.94-2.06 2.06-.94-2.06-.94-.94-2.06-.94 2.06-2.06.94z\"/><path d=\"M17.41 7.96l-1.37-1.37c-.4-.4-.92-.59-1.43-.59-.52 0-1.04.2-1.43.59L10.3 9.45l-7.72 7.72c-.78.78-.78 2.05 0 2.83L4 21.41c.39.39.9.59 1.41.59.51 0 1.02-.2 1.41-.59l7.78-7.78 2.81-2.81c.8-.78.8-2.07 0-2.86zM5.41 20L4 18.59l7.72-7.72 1.47 1.35L5.41 20z\"/>\n",
              "  </svg>\n",
              "      </button>\n",
              "      \n",
              "  <style>\n",
              "    .colab-df-container {\n",
              "      display:flex;\n",
              "      flex-wrap:wrap;\n",
              "      gap: 12px;\n",
              "    }\n",
              "\n",
              "    .colab-df-convert {\n",
              "      background-color: #E8F0FE;\n",
              "      border: none;\n",
              "      border-radius: 50%;\n",
              "      cursor: pointer;\n",
              "      display: none;\n",
              "      fill: #1967D2;\n",
              "      height: 32px;\n",
              "      padding: 0 0 0 0;\n",
              "      width: 32px;\n",
              "    }\n",
              "\n",
              "    .colab-df-convert:hover {\n",
              "      background-color: #E2EBFA;\n",
              "      box-shadow: 0px 1px 2px rgba(60, 64, 67, 0.3), 0px 1px 3px 1px rgba(60, 64, 67, 0.15);\n",
              "      fill: #174EA6;\n",
              "    }\n",
              "\n",
              "    [theme=dark] .colab-df-convert {\n",
              "      background-color: #3B4455;\n",
              "      fill: #D2E3FC;\n",
              "    }\n",
              "\n",
              "    [theme=dark] .colab-df-convert:hover {\n",
              "      background-color: #434B5C;\n",
              "      box-shadow: 0px 1px 3px 1px rgba(0, 0, 0, 0.15);\n",
              "      filter: drop-shadow(0px 1px 2px rgba(0, 0, 0, 0.3));\n",
              "      fill: #FFFFFF;\n",
              "    }\n",
              "  </style>\n",
              "\n",
              "      <script>\n",
              "        const buttonEl =\n",
              "          document.querySelector('#df-839800a0-8ac2-479e-ad3a-a8b32a2f20d8 button.colab-df-convert');\n",
              "        buttonEl.style.display =\n",
              "          google.colab.kernel.accessAllowed ? 'block' : 'none';\n",
              "\n",
              "        async function convertToInteractive(key) {\n",
              "          const element = document.querySelector('#df-839800a0-8ac2-479e-ad3a-a8b32a2f20d8');\n",
              "          const dataTable =\n",
              "            await google.colab.kernel.invokeFunction('convertToInteractive',\n",
              "                                                     [key], {});\n",
              "          if (!dataTable) return;\n",
              "\n",
              "          const docLinkHtml = 'Like what you see? Visit the ' +\n",
              "            '<a target=\"_blank\" href=https://colab.research.google.com/notebooks/data_table.ipynb>data table notebook</a>'\n",
              "            + ' to learn more about interactive tables.';\n",
              "          element.innerHTML = '';\n",
              "          dataTable['output_type'] = 'display_data';\n",
              "          await google.colab.output.renderOutput(dataTable, element);\n",
              "          const docLink = document.createElement('div');\n",
              "          docLink.innerHTML = docLinkHtml;\n",
              "          element.appendChild(docLink);\n",
              "        }\n",
              "      </script>\n",
              "    </div>\n",
              "  </div>\n",
              "  "
            ]
          },
          "metadata": {},
          "execution_count": 50
        }
      ]
    },
    {
      "cell_type": "code",
      "source": [
        "dfT.info()"
      ],
      "metadata": {
        "colab": {
          "base_uri": "https://localhost:8080/"
        },
        "id": "DiUIT7el2fRp",
        "outputId": "4770bcd3-eb9a-4b21-ecee-9bb7444c78c8"
      },
      "execution_count": null,
      "outputs": [
        {
          "output_type": "stream",
          "name": "stdout",
          "text": [
            "<class 'pandas.core.frame.DataFrame'>\n",
            "Int64Index: 15 entries, 7 to 121\n",
            "Data columns (total 14 columns):\n",
            " #   Column      Non-Null Count  Dtype   \n",
            "---  ------      --------------  -----   \n",
            " 0   created_at  15 non-null     object  \n",
            " 1   LT          15 non-null     float64 \n",
            " 2   LB          15 non-null     float64 \n",
            " 3   KT          15 non-null     float64 \n",
            " 4   KM          15 non-null     float64 \n",
            " 5   garasi      15 non-null     category\n",
            " 6   carport     15 non-null     category\n",
            " 7   lokasi      15 non-null     category\n",
            " 8   sertifikat  15 non-null     category\n",
            " 9   listrik     15 non-null     float64 \n",
            " 10  hadap       15 non-null     category\n",
            " 11  harga       15 non-null     float64 \n",
            " 12  URL         15 non-null     object  \n",
            " 13  deskripsi   15 non-null     object  \n",
            "dtypes: category(5), float64(6), object(3)\n",
            "memory usage: 3.5+ KB\n"
          ]
        }
      ]
    },
    {
      "cell_type": "markdown",
      "source": [
        "##visualisasi data"
      ],
      "metadata": {
        "id": "-nBisjyB200n"
      }
    },
    {
      "cell_type": "code",
      "source": [
        "# Menampilkan grafik Perbandingan Jumlah Data Rumah Dijual Di Tangerang\n",
        "plt.figure(figsize=(16,5))\n",
        "tmp_df1 = dfT.lokasi.value_counts()\n",
        "tmp_df1.sort_values().plot(kind=\"bar\", color=['r','g','b','orange'])\n",
        "plt.title(f\"Perbandingan Jumlah Data Rumah Dijual Di Daerah Tangerang\")\n",
        "plt.xlabel(\"Lokasi\")\n",
        "plt.ylabel(f\"Jumlah Rumah\")\n",
        "plt.xticks(rotation=0)\n",
        "plt.tight_layout()\n",
        "plt.show()\n",
        "display(tmp_df1)"
      ],
      "metadata": {
        "colab": {
          "base_uri": "https://localhost:8080/",
          "height": 1000
        },
        "id": "ijB4d5gn2yuX",
        "outputId": "121da55e-82f5-4ca9-a7e3-4180d48a328d"
      },
      "execution_count": null,
      "outputs": [
        {
          "output_type": "display_data",
          "data": {
            "text/plain": [
              "<Figure size 1152x360 with 1 Axes>"
            ],
            "image/png": "[encoded data removed]"
          },
          "metadata": {
            "needs_background": "light"
          }
        },
        {
          "output_type": "display_data",
          "data": {
            "text/plain": [
              "BSD, TANGERANG                      3\n",
              "CIKUPA CITRA JAYA, TANGERANG        2\n",
              "BSD Griya Loka, Tangerang           1\n",
              "BENDA, TANGERANG                    1\n",
              "SEPATAN, TANGERANG                  1\n",
              "BSD CITY, TANGERANG                 1\n",
              "BSD DE PARK, TANGERANG              1\n",
              "BSD FORESTA, TANGERANG              1\n",
              "PONDOK JAGUNG, TANGERANG            1\n",
              "PONDOK CABE, TANGERANG              1\n",
              "BANJAR WIJAYA, TANGERANG            1\n",
              "BSD THE ICON, TANGERANG             1\n",
              "MAUK, TANGERANG                     0\n",
              "KARAWACI, TANGERANG                 0\n",
              "LEGOK, TANGERANG                    0\n",
              "LIPPO KARAWACI, TANGERANG           0\n",
              "ALAM SUTERA, TANGERANG              0\n",
              "PAGEDANGAN, TANGERANG               0\n",
              "PASAR KEMIS, TANGERANG              0\n",
              "PINANG, TANGERANG                   0\n",
              "GADING SERPONG, TANGERANG           0\n",
              "Pagedangan, Tangerang               0\n",
              "Poris, Tangerang                    0\n",
              "RAWAKALONG, TANGERANG               0\n",
              "GRAHA RAYA, TANGERANG               0\n",
              "CILEDUG, TANGERANG                  0\n",
              "Ciater, Tangerang                   0\n",
              "CITRA MAJA RAYA, TANGERANG          0\n",
              "CISAUK, TANGERANG                   0\n",
              "CIPONDOH, TANGERANG                 0\n",
              "BSD THE GREEN, TANGERANG            0\n",
              "BSD PUSPITA LOKA, TANGERANG         0\n",
              "BSD PROVANCE PARKLAND, TANGERANG    0\n",
              "BSD NUSALOKA, TANGERANG             0\n",
              "BSD GRIYA LOKA, TANGERANG           0\n",
              "BSD GREEN WICH, TANGERANG           0\n",
              "BSD EMINENT, TANGERANG              0\n",
              "BSD DUTA BINTARO, TANGERANG         0\n",
              "BSD DELATINOS, TANGERANG            0\n",
              "BSD BUKIT GOLF, TANGERANG           0\n",
              "SERPONG, TANGERANG SELATAN          0\n",
              "Name: lokasi, dtype: int64"
            ]
          },
          "metadata": {}
        }
      ]
    },
    {
      "cell_type": "code",
      "source": [
        "# Menampilkan grafik Perbandingan Jumlah Data Rumah Dijual Di Tangerang Berdasarkan Ketersediaan Garasi\n",
        "plt.figure(figsize=(16,5))\n",
        "tmp_df2 = dfT.garasi.value_counts()\n",
        "tmp_df2.sort_values().plot(kind=\"barh\", color=['y','r'])\n",
        "plt.title(f\"Perbandingan Jumlah Data Rumah Dijual Di Tangerang Berdasarkan Ketersediaan Garasi\")\n",
        "plt.xlabel(\"Jumlah Rumah\")\n",
        "plt.ylabel(f\"Jumlah Garasi\")\n",
        "plt.tight_layout()\n",
        "plt.show()\n",
        "display(tmp_df2)"
      ],
      "metadata": {
        "colab": {
          "base_uri": "https://localhost:8080/",
          "height": 491
        },
        "id": "2HSoN_ED2fSx",
        "outputId": "17e4e91b-768b-4183-8b08-67b7f1fc6ab6"
      },
      "execution_count": null,
      "outputs": [
        {
          "output_type": "display_data",
          "data": {
            "text/plain": [
              "<Figure size 1152x360 with 1 Axes>"
            ],
            "image/png": "[encoded data removed]"
          },
          "metadata": {
            "needs_background": "light"
          }
        },
        {
          "output_type": "display_data",
          "data": {
            "text/plain": [
              "1.0     9\n",
              "2.0     5\n",
              "4.0     1\n",
              "3.0     0\n",
              "6.0     0\n",
              "10.0    0\n",
              "Name: garasi, dtype: int64"
            ]
          },
          "metadata": {}
        }
      ]
    },
    {
      "cell_type": "markdown",
      "source": [
        "#INTERPRETASI\n",
        "Di lihat dari data diatas bahwa jumlah rumah yang mempunyai garasi 1 lebih banyak di banding dengan jumlah rumah yang memiliki garasi lebih dari 1, berarti jumlah garasi tidak mempengaruhi minat pembeli\n",
        "Saran dari kami, lebih baik memanfaatkan lahan yang ada untuk membuat garasi yang semaksimal mungkin atau bisa membuat carport supaya lebih efisien."
      ],
      "metadata": {
        "id": "e3k1PKcv8qvZ"
      }
    },
    {
      "cell_type": "code",
      "source": [
        "# Distribusi Harga Rumah Berdasarkan Lokasi Rumah\n",
        "p = sns.catplot(x=\"lokasi\", y=\"harga\", data=dfT)\n"
      ],
      "metadata": {
        "colab": {
          "base_uri": "https://localhost:8080/",
          "height": 369
        },
        "id": "LCrfbfAg61im",
        "outputId": "a1e935e5-5909-484f-94ad-b43bd5c080b5"
      },
      "execution_count": null,
      "outputs": [
        {
          "output_type": "display_data",
          "data": {
            "text/plain": [
              "<Figure size 360x360 with 1 Axes>"
            ],
            "image/png": "[encoded data removed]"
          },
          "metadata": {
            "needs_background": "light"
          }
        }
      ]
    },
    {
      "cell_type": "markdown",
      "source": [
        "#interpretasi\n",
        "berdasarkan visualisasi diatas harga rumah di BSD harganya terlampau tinggi di bandingkan di tempat yang lain, berati tempat yang strategis dan dekat dengan area publik sangat berpengaruh terhadap harga rumah yang tinggi. saran kami untuk daerah yang jauh dari area publik perlu di perhatikan lagi dari segi kecocokan harga\n"
      ],
      "metadata": {
        "id": "DMw-UwiIApUB"
      }
    },
    {
      "cell_type": "code",
      "source": [
        "# Distribusi Harga Rumah Berdasarkan Ketersediaan LT dan Lokasi Rumah\n",
        "q = sns.catplot(x=\"LT\", y=\"harga\", hue=\"lokasi\", kind=\"swarm\", data=dfT)"
      ],
      "metadata": {
        "colab": {
          "base_uri": "https://localhost:8080/",
          "height": 688
        },
        "id": "60q7mixt69bG",
        "outputId": "de480cd0-75f0-44fb-c9b1-90e13ab1cbd9"
      },
      "execution_count": null,
      "outputs": [
        {
          "output_type": "display_data",
          "data": {
            "text/plain": [
              "<Figure size 623.475x360 with 1 Axes>"
            ],
            "image/png": "[encoded data removed]"
          },
          "metadata": {
            "needs_background": "light"
          }
        }
      ]
    },
    {
      "cell_type": "markdown",
      "source": [
        "#interpretasi\n",
        "berdasarkan visualisai diatas luas tanah tidak mempengaruhi terhadap harga yang tinggi, berarti tempat yang strategis menjadi faktor utama terhadap harga rumah yang tinggi. saran dari kami untuk lokasi didaerah banjar perlu di perhatikan dan disurvey kembali padahal luas tanah di banjar termasuk yang paling luas diantara yang lain."
      ],
      "metadata": {
        "id": "tJr19Zd6A8pG"
      }
    }
  ]
}